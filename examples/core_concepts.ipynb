{
 "cells": [
  {
   "cell_type": "markdown",
   "id": "d2090adc-e0c5-42e3-98d9-1e5885193998",
   "metadata": {
    "tags": []
   },
   "source": [
    "# Core concepts\n",
    "\n",
    "## Goal of this notebook\n",
    "\n",
    "- Learn about the most important data structures in $\\text{FeO}_\\text{s}$ using the Peng-Robinson equation of state."
   ]
  },
  {
   "cell_type": "markdown",
   "id": "1fcc000b-41cd-4fdf-b22b-16276adbc133",
   "metadata": {},
   "source": [
    "## The equation of state object\n",
    "\n",
    "Before we can compute a thermodynamic property, we have to decide what equation of state to use.\n",
    "In $\\text{FeO}_\\text{s}$, an **equation of state** is an object that contains information about the system (which substances), the parameters needed, and the algorithms to compute the Helmholtz energy.\n",
    "\n",
    "Let's define a simple Peng-Robinson equation of state. We can import the `PengRobinson` object from `feos_core.cubic`."
   ]
  },
  {
   "cell_type": "code",
   "execution_count": 47,
   "id": "03bc4cb3-be17-4c91-9100-9bb3d5dc6141",
   "metadata": {},
   "outputs": [
    {
     "data": {
      "text/plain": [
       "\u001b[0;31mInit signature:\u001b[0m \u001b[0mPengRobinson\u001b[0m\u001b[0;34m(\u001b[0m\u001b[0mself\u001b[0m\u001b[0;34m,\u001b[0m \u001b[0;34m/\u001b[0m\u001b[0;34m,\u001b[0m \u001b[0;34m*\u001b[0m\u001b[0margs\u001b[0m\u001b[0;34m,\u001b[0m \u001b[0;34m**\u001b[0m\u001b[0mkwargs\u001b[0m\u001b[0;34m)\u001b[0m\u001b[0;34m\u001b[0m\u001b[0;34m\u001b[0m\u001b[0m\n",
       "\u001b[0;31mDocstring:\u001b[0m     \n",
       "A simple version of the Peng-Robinson equation of state.\n",
       "\n",
       "Parameters\n",
       "----------\n",
       "parameters : PengRobinsonParameters\n",
       "    The parameters of the Peng-Robinson equation of state to use.\n",
       "\n",
       "Returns\n",
       "-------\n",
       "PengRobinson\n",
       "\u001b[0;31mType:\u001b[0m           type\n",
       "\u001b[0;31mSubclasses:\u001b[0m     \n"
      ]
     },
     "metadata": {},
     "output_type": "display_data"
    }
   ],
   "source": [
    "from feos_core.cubic import PengRobinson\n",
    "\n",
    "PengRobinson?"
   ]
  },
  {
   "cell_type": "markdown",
   "id": "aa34fbe6-bae2-4130-83a8-6f4ca95c4831",
   "metadata": {},
   "source": [
    "The `PengRobinson` equation of state constructor takes a single argument as input, the parameters which have the data type `PengRobinsonParameters`. Those are imported also from the `feos_core.cubic` module.\n",
    "\n",
    "The way an equation of state handles parameters is in control of the implementor of the equation of state and can -- in general -- be different for each equation of state.\n",
    "\n",
    "$\\text{FeO}_\\text{s}$ offers some convenient tools, e.g. to read parameters from a json file. Without going into more detail, we will use this functionality in this example. \n",
    "\n",
    "Let's start with a single component."
   ]
  },
  {
   "cell_type": "code",
   "execution_count": 48,
   "id": "ab4179e5-03d8-4de2-8f81-78f07c009bbf",
   "metadata": {},
   "outputs": [
    {
     "data": {
      "text/plain": [
       "PureRecord(\n",
       "\tidentifier=Identifier(cas=74-98-6, name=propane, iupac_name=propane, smiles=CCC, inchi=InChI=1/C3H8/c1-3-2/h3H2,1-2H3, formula=C3H8),\n",
       "\tmolarweight=44.0962,\n",
       "\tmodel_record=PengRobinsonRecord(tc=369.96 K, pc=4250000 Pa, acentric factor=0.153,\n",
       ")\n",
       "\n",
       "k_ij:\n",
       "[[0]]"
      ]
     },
     "execution_count": 48,
     "metadata": {},
     "output_type": "execute_result"
    }
   ],
   "source": [
    "from feos_core.cubic import PengRobinsonParameters\n",
    "\n",
    "parameters = PengRobinsonParameters.from_json(['propane'], 'peng-robinson.json')\n",
    "parameters"
   ]
  },
  {
   "cell_type": "markdown",
   "id": "8bdf25bd-466b-4c19-ae12-50e28ea7692f",
   "metadata": {},
   "source": [
    "Now that we have the parameters set up, we can instantiate our equation of state object."
   ]
  },
  {
   "cell_type": "code",
   "execution_count": 49,
   "id": "35254b5e-dfe1-4f23-a6c2-969937becc9c",
   "metadata": {},
   "outputs": [],
   "source": [
    "eos = PengRobinson(parameters)"
   ]
  },
  {
   "cell_type": "markdown",
   "id": "c481257b-472f-4a0f-b8e6-7d827339ce06",
   "metadata": {},
   "source": [
    "## A thermodynamic state\n",
    "\n",
    "We now have an equation of state that contains the substance(s) we are interested in as well as the algorithms to compute properties. Next, we have to specify the thermodynamic conditions at which we want to compute our properties.\n",
    "\n",
    "To that, we have to build a `State` object which located in the same module, `feos_core.cubic`.\n",
    "There are a lot of ways to define a thermodynamic state.\n",
    "You can use the documentation (or the docstring) to find out about all possible ways.\n",
    "\n",
    "Here, let's build a state at given temperature and pressure.\n",
    "To do that, we need to import yet another module: the `feos_core.si` module contains data types that capture dimensioned quantities. Most interfaces in $\\text{FeO}_\\text{s}$ use these data types.\n",
    "\n",
    "Creating a state is always the same: the first argument is the equation of state followed by the control variables. If no amount of substance is specified, it is set to the inverse of Avogradro's number."
   ]
  },
  {
   "cell_type": "code",
   "execution_count": 50,
   "id": "6c48bbb0-cc9e-4f20-9424-f0173a0f0b5d",
   "metadata": {},
   "outputs": [
    {
     "data": {
      "text/markdown": [
       "|temperature|density|\n",
       "|-|-|\n",
       "|300.00000 K|40.75540  mol/m³|"
      ],
      "text/plain": [
       "T = 300.00000 K, ρ = 40.75540  mol/m³"
      ]
     },
     "execution_count": 50,
     "metadata": {},
     "output_type": "execute_result"
    }
   ],
   "source": [
    "from feos_core.cubic import State\n",
    "from feos_core.si import * # SI units and constants \n",
    "\n",
    "state_tp = State(eos, temperature=300*KELVIN, pressure=1*BAR)\n",
    "state_tp"
   ]
  },
  {
   "cell_type": "markdown",
   "id": "a47ab924-cde2-490a-97f2-5e1a8fdbd808",
   "metadata": {},
   "source": [
    "## Thermodynamic properties\n",
    "The main work is done. A `State` object has a method for each of its thermodynamic properties. Let's compute some."
   ]
  },
  {
   "cell_type": "code",
   "execution_count": 51,
   "id": "f0bbe2aa-df6f-4ce1-903a-f4db5b39ba69",
   "metadata": {},
   "outputs": [
    {
     "data": {
      "text/latex": [
       "$100\\,\\mathrm{kPa}$"
      ],
      "text/plain": [
       "99.99999999999994 kPa"
      ]
     },
     "execution_count": 51,
     "metadata": {},
     "output_type": "execute_result"
    }
   ],
   "source": [
    "state_tp.pressure()"
   ]
  },
  {
   "cell_type": "code",
   "execution_count": 52,
   "id": "b5a4aaf5-307e-43e3-992b-040e011ffdb1",
   "metadata": {},
   "outputs": [
    {
     "data": {
      "text/latex": [
       "$19.051\\,\\mathrm{\\frac{kJ}{mol}}$"
      ],
      "text/plain": [
       "19.050830649458582 kJ/mol"
      ]
     },
     "execution_count": 52,
     "metadata": {},
     "output_type": "execute_result"
    }
   ],
   "source": [
    "state_tp.molar_enthalpy()"
   ]
  },
  {
   "cell_type": "code",
   "execution_count": 53,
   "id": "c6185ba6-ba8d-4339-ab7c-71b8c575f899",
   "metadata": {},
   "outputs": [
    {
     "data": {
      "text/latex": [
       "$187.59\\,\\mathrm{\\frac{ m}{s}}$"
      ],
      "text/plain": [
       "187.58774865257948  m/s"
      ]
     },
     "execution_count": 53,
     "metadata": {},
     "output_type": "execute_result"
    }
   ],
   "source": [
    "state_tp.speed_of_sound()"
   ]
  },
  {
   "cell_type": "code",
   "execution_count": 54,
   "id": "3413921f-5e83-4867-83e5-2fc4d4e65972",
   "metadata": {},
   "outputs": [
    {
     "data": {
      "text/latex": [
       "$-7.1014\\times10^{-5}\\,\\mathrm{\\frac{ms^{2}K}{kg}}$"
      ],
      "text/plain": [
       "-7.101416421069843e-5 m kg^-1 s^2 K"
      ]
     },
     "execution_count": 54,
     "metadata": {},
     "output_type": "execute_result"
    }
   ],
   "source": [
    "state_tp.joule_thomson()"
   ]
  },
  {
   "cell_type": "code",
   "execution_count": 55,
   "id": "a5178483-c506-4093-b5ac-f40c28f4dc1b",
   "metadata": {},
   "outputs": [
    {
     "data": {
      "text/latex": [
       "$1.5813\\times10^{-5}\\,\\mathrm{\\frac{ms^{2}}{kg}}$"
      ],
      "text/plain": [
       "1.5812651174117774e-5 m kg^-1 s^2"
      ]
     },
     "execution_count": 55,
     "metadata": {},
     "output_type": "execute_result"
    }
   ],
   "source": [
    "state_tp.isentropic_compressibility()"
   ]
  },
  {
   "cell_type": "code",
   "execution_count": 56,
   "id": "a7b9050a-b52f-4fc3-83cb-794b4571456b",
   "metadata": {},
   "outputs": [
    {
     "data": {
      "text/latex": [
       "$1.0168\\times10^{-5}\\,\\mathrm{\\frac{ms^{2}}{kg}}$"
      ],
      "text/plain": [
       "1.0167625928735927e-5 m kg^-1 s^2"
      ]
     },
     "execution_count": 56,
     "metadata": {},
     "output_type": "execute_result"
    }
   ],
   "source": [
    "state_tp.isothermal_compressibility()"
   ]
  },
  {
   "cell_type": "markdown",
   "id": "e57d8491-582b-4e17-b6f8-e82ddbb58329",
   "metadata": {},
   "source": [
    "## `State` at critical conditions\n",
    "\n",
    "There are other ways to create a `State` object. For example, we can compute the critical point."
   ]
  },
  {
   "cell_type": "code",
   "execution_count": 63,
   "id": "31d40fe3-9f93-4d01-89e7-048ff57bdec0",
   "metadata": {},
   "outputs": [
    {
     "name": "stdout",
     "output_type": "stream",
     "text": [
      "critical temperature: 369.950617 K\n",
      "critical pressure   : 4.249678 MPa\n",
      "critical density    : 0.198186 g/cm3\n"
     ]
    }
   ],
   "source": [
    "state_cp = State.critical_point(eos)\n",
    "\n",
    "print('critical temperature: {:2f} K'.format(\n",
    "    state_cp.temperature / KELVIN\n",
    "))\n",
    "print('critical pressure   : {:2f} MPa'.format(\n",
    "    state_cp.pressure() / (MEGA * PASCAL)\n",
    "))\n",
    "print('critical density    : {:2f} g/cm3'.format(\n",
    "    state_cp.mass_density() / (GRAM / (CENTI * METER)**3)\n",
    "))"
   ]
  },
  {
   "cell_type": "markdown",
   "id": "4983a4d4-9549-46af-a108-380c8159d80a",
   "metadata": {},
   "source": [
    "## Phase equilibirum\n",
    "\n",
    "Another important property is phase equilibrium which generates two or more states that are in equilibrium.\n",
    "For pure substance systems, we can either provide the temperature or the pressure:"
   ]
  },
  {
   "cell_type": "code",
   "execution_count": 68,
   "id": "0ee206de-5f0a-40be-8527-ff7a03821d59",
   "metadata": {},
   "outputs": [
    {
     "data": {
      "text/markdown": [
       "||temperature|density|\n",
       "|-|-|-|\n",
       "|phase 1|363.92630 K|2.84888 kmol/m³|\n",
       "|phase 2|363.92630 K|6.45189 kmol/m³|\n"
      ],
      "text/plain": [
       "phase 0: T = 363.92630 K, ρ = 2.84888 kmol/m³\n",
       "phase 1: T = 363.92630 K, ρ = 6.45189 kmol/m³"
      ]
     },
     "execution_count": 68,
     "metadata": {},
     "output_type": "execute_result"
    }
   ],
   "source": [
    "from feos_core.cubic import PhaseEquilibrium\n",
    "\n",
    "PhaseEquilibrium.pure(eos, 0.9 * state_cp.pressure())"
   ]
  },
  {
   "cell_type": "code",
   "execution_count": 69,
   "id": "2e28fa09-6e7e-4825-b0f6-d34281a4d0f7",
   "metadata": {},
   "outputs": [
    {
     "data": {
      "text/markdown": [
       "||temperature|density|\n",
       "|-|-|-|\n",
       "|phase 1|332.95556 K|1.13281 kmol/m³|\n",
       "|phase 2|332.95556 K|9.60459 kmol/m³|\n"
      ],
      "text/plain": [
       "phase 0: T = 332.95556 K, ρ = 1.13281 kmol/m³\n",
       "phase 1: T = 332.95556 K, ρ = 9.60459 kmol/m³"
      ]
     },
     "execution_count": 69,
     "metadata": {},
     "output_type": "execute_result"
    }
   ],
   "source": [
    "PhaseEquilibrium.pure(eos, 0.9 * state_cp.temperature)"
   ]
  },
  {
   "cell_type": "markdown",
   "id": "4e4dcc75-29df-4fe2-868c-068f33d020bc",
   "metadata": {},
   "source": [
    "The `PhaseEquilibrium` object contains the `State` objects which we can access via `liquid` or `vapor` and which we can use to compute any property, e.g. the enthalpy of vaporization."
   ]
  },
  {
   "cell_type": "code",
   "execution_count": 71,
   "id": "a9b4db42-78ec-425c-b24a-280bb740428d",
   "metadata": {},
   "outputs": [
    {
     "data": {
      "text/latex": [
       "$11.361\\,\\mathrm{\\frac{kJ}{mol}}$"
      ],
      "text/plain": [
       "11.361380517650792 kJ/mol"
      ]
     },
     "execution_count": 71,
     "metadata": {},
     "output_type": "execute_result"
    }
   ],
   "source": [
    "vle = PhaseEquilibrium.pure(eos, 0.9 * state_cp.temperature)\n",
    "h_vap = vle.vapor.molar_enthalpy() - vle.liquid.molar_enthalpy()\n",
    "h_vap"
   ]
  },
  {
   "cell_type": "markdown",
   "id": "8caaaa46-837b-461b-af1b-d1624957fc1e",
   "metadata": {},
   "source": [
    "## Concluding remkars\n",
    "\n",
    "Hopefully you found this example helpful. If you have comments, critique or feedback, please let us know and consider opening an [issue on github](https://github.com/feos-org/feos/issues)."
   ]
  }
 ],
 "metadata": {
  "kernelspec": {
   "display_name": "Python 3 (ipykernel)",
   "language": "python",
   "name": "python3"
  },
  "language_info": {
   "codemirror_mode": {
    "name": "ipython",
    "version": 3
   },
   "file_extension": ".py",
   "mimetype": "text/x-python",
   "name": "python",
   "nbconvert_exporter": "python",
   "pygments_lexer": "ipython3",
   "version": "3.9.7"
  }
 },
 "nbformat": 4,
 "nbformat_minor": 5
}
