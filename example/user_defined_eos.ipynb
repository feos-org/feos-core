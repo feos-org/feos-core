{
 "cells": [
  {
   "cell_type": "markdown",
   "metadata": {},
   "source": [
    "# Implementing an equation of state in python\n",
    "\n",
    "> In `FeOs`, you can implement your equation of state in python, register it to the Rust backend, and compute properties and phase equilbria as if you implemented it in Rust.\n",
    "> In this tutorial, we will implement the Peng-Robinson equation of state."
   ]
  },
  {
   "cell_type": "markdown",
   "metadata": {},
   "source": [
    "## Table of contents <a id=\"toc\"/>\n",
    "\n",
    "- [Setup](#setup)\n",
    "- [Implementation](#implementation)\n",
    "- [Computing properties](#props)\n",
    "- [Critical point](#crit)\n",
    "- [Phase equilibria and phase diagrams](#vle)\n",
    "- [Mixtures](#mix)\n",
    "- [Comparison to Rust implementation](#rust)"
   ]
  },
  {
   "cell_type": "markdown",
   "metadata": {},
   "source": [
    "## Setup <a id=\"setup\"/>\n",
    "[↑ Back to top](#toc)\n",
    "\n",
    "Let's start by importing the necessary python packages. Mandatory packages are\n",
    "\n",
    "- `feos_core.user_defined` for classes such as `State`, `PhaseEquilibrium`, and `UserDefinedEos`,\n",
    "- `feos_core.si` for SI numbers,\n",
    "- `numpy` for multidimensional arrays.\n",
    "\n",
    "We also recommend using\n",
    "\n",
    "- `matplotlib` and `seaborn` for visualization, and\n",
    "- `pandas` for easier data handling.\n",
    "\n",
    "If you don't want to use the optional packages, simply remove them from the import statement below or set `optional = False`."
   ]
  },
  {
   "cell_type": "code",
   "execution_count": 1,
   "metadata": {},
   "outputs": [],
   "source": [
    "from feos_core.user_defined import *\n",
    "from feos_core.si import *\n",
    "import numpy as np\n",
    "\n",
    "optional = True\n",
    "\n",
    "if optional:\n",
    "    import matplotlib.pyplot as plt\n",
    "    import pandas as pd\n",
    "    import seaborn as sns\n",
    "\n",
    "    sns.set_style(\"ticks\")\n",
    "    sns.set_palette(\"Dark2\")\n",
    "    sns.set_context(\"talk\")"
   ]
  },
  {
   "cell_type": "markdown",
   "metadata": {},
   "source": [
    "## Implementation <a id=\"implementation\"/>\n",
    "[↑ Back to top](#toc)\n",
    "\n",
    "To implement an equation of state in python, we have to define a `class` which has to have the following methods:\n",
    "\n",
    "```python\n",
    "class EquationOfState:\n",
    "    def helmholtz_energy(self, state: StateHD) -> D\n",
    "    \n",
    "    def components(self) -> int\n",
    "    \n",
    "    def subset(self, indices: List[int]) -> Self\n",
    "    \n",
    "    def molar_weight(self) -> SIArray1\n",
    "    \n",
    "    def max_density(self, moles: SIArray1) -> f64\n",
    "```    \n",
    "\n",
    "- `components(self) -> int`: Returns the number of components (usually inferred from the shape of the input parameters).\n",
    "- `molar_weight(self) -> SIArray1`: Returns an `SIArray1` with size equal to the number of components containing the molar mass of each component.\n",
    "- `max_density(self, moles: np.ndarray[float]) -> float`: Returns the maximum allowed number density in units of `molecules/Angstrom³`.\n",
    "- `subset(self, indices: List[int]) -> self`: Returns a new equation of state for the components defined in `indices`.\n",
    "- `helmholtz_energy(self, state: StateHD) -> Dual`: Returns the helmholtz energy as (hyper)-dual number given a `StateHD`."
   ]
  },
  {
   "cell_type": "code",
   "execution_count": 2,
   "metadata": {},
   "outputs": [],
   "source": [
    "SQRT2 = np.sqrt(2)\n",
    "\n",
    "class PyPengRobinson: \n",
    "    def __init__(self, critical_temperature, critical_pressure, acentric_factor, molar_weight, delta_ij=None):\n",
    "        \"\"\"Peng-Robinson Equation of State\n",
    "        \n",
    "        Parameters\n",
    "        ----------\n",
    "        critical_temperature : SIArray1\n",
    "            critical temperature of each component.\n",
    "        critical_pressure : SIArray1\n",
    "            critical pressure of each component.\n",
    "        acentric_factor : np.array[float] \n",
    "            acentric factor of each component (dimensionless).\n",
    "        molar_weight: SIArray1\n",
    "            molar weight of each component.\n",
    "        delta_ij : np.array[[float]], optional\n",
    "            binary parameters. Shape=[n, n], n = number of components.\n",
    "            defaults to zero for all binary interactions.\n",
    "            \n",
    "        Raises\n",
    "        ------\n",
    "        ValueError: if the input values have incompatible sizes.\n",
    "        \"\"\"\n",
    "        self.n = len(critical_temperature)\n",
    "        if len(set((len(critical_temperature), len(critical_pressure), len(acentric_factor)))) != 1:\n",
    "            raise ValueError(\"Input parameters must all have the same lenght.\")\n",
    "        \n",
    "        self.tc = critical_temperature\n",
    "        self.pc = critical_pressure\n",
    "        self.omega = acentric_factor\n",
    "        self.mw = molar_weight\n",
    "        \n",
    "        self.a_r = 0.45724 * critical_temperature**2 * RGAS / critical_pressure / ANGSTROM**3 / NAV / KELVIN\n",
    "        self.b = 0.07780 * critical_temperature * RGAS / critical_pressure / ANGSTROM**3 / NAV\n",
    "        self.kappa = 0.37464 + (1.54226 - 0.26992 * acentric_factor) * acentric_factor\n",
    "        self.delta_ij = np.zeros((self.n, self.n)) if delta_ij is None else delta_ij\n",
    "        \n",
    "    def helmholtz_energy(self, state):\n",
    "        \"\"\"Return helmholtz energy.\n",
    "        \n",
    "        Parameters\n",
    "        ----------\n",
    "        state : StateHD\n",
    "            The thermodynamic state.\n",
    "            \n",
    "        Returns\n",
    "        -------\n",
    "        helmholtz_energy: float | any dual number\n",
    "            The return type depends on the input types.\n",
    "        \"\"\"      \n",
    "        n = np.sum(state.moles)\n",
    "        x = state.molefracs\n",
    "        tr = KELVIN / self.tc * state.temperature\n",
    "        ak = ((1.0 - np.sqrt(tr)) * self.kappa + 1.0)**2 * self.a_r\n",
    "        ak_mix = 0.0\n",
    "        if self.n > 1:\n",
    "            for i in range(self.n):\n",
    "                for j in range(self.n):\n",
    "                    ak_mix += np.sqrt(ak[i] * ak[j]) * (x[i] * x[j] * (1.0 - self.delta_ij[i, j]))\n",
    "        else:\n",
    "            ak_mix = ak[0]\n",
    "        b = np.sum(x * self.b)\n",
    "        v = state.volume\n",
    "        return n * (np.log(v / (v - b * n)) - ak_mix / (b * SQRT2 * 2.0 * state.temperature) \n",
    "                    * np.log((v * (SQRT2 - 1.0) + b * n) / (v * (SQRT2 + 1.0) - b * n)))\n",
    "    \n",
    "    def components(self) -> int: \n",
    "        \"\"\"Number of components.\"\"\"\n",
    "        return self.n\n",
    "    \n",
    "    def subset(self, indices: [int]):\n",
    "        \"\"\"Return new equation of state containing a subset of all components.\"\"\" \n",
    "        tc = SIArray1([self.tc[i] for i in indices])\n",
    "        pc = SIArray1([self.pc[i] for i in indices])\n",
    "        mw = SIArray1([self.mw[i] for i in indices])\n",
    "        omega = self.omega[indices]\n",
    "        return PyPengRobinson(tc, pc, omega, mw)\n",
    "        \n",
    "    def molar_weight(self) -> SIArray1:\n",
    "        return self.mw\n",
    "    \n",
    "    def max_density(self, moles:[float]) -> float:\n",
    "        b = np.sum(moles * self.b) / np.sum(moles);\n",
    "        return 0.9 / b "
   ]
  },
  {
   "cell_type": "markdown",
   "metadata": {},
   "source": [
    "## Computing properties <a id=\"props\"/>\n",
    "[↑ Back to top](#toc)\n",
    "\n",
    "Let's compute some properties. First, we have to instantiate the class and register it to Rust.\n",
    "This is done using the `UserDefinedEos` class."
   ]
  },
  {
   "cell_type": "code",
   "execution_count": 3,
   "metadata": {},
   "outputs": [],
   "source": [
    "# parameters for propane\n",
    "tc = SIArray1(369.96 * KELVIN)\n",
    "pc = SIArray1(4250000.0 * PASCAL)\n",
    "omega = np.array([0.153])\n",
    "molar_weight = SIArray1(44.0962 * GRAM / MOL)\n",
    "\n",
    "# create an instance of our python class and hand it over to rust\n",
    "eos = UserDefinedEos(PyPengRobinson(tc, pc, omega, molar_weight))"
   ]
  },
  {
   "cell_type": "markdown",
   "metadata": {},
   "source": [
    "### Thermodynamic state\n",
    "\n",
    "Before we can compute a property, we create a `State` object. This can be done in several ways depending on what control variables we need.\n",
    "If no total amount of substance is defined, it is set to $n = \\frac{1}{N_{AV}}$.\n",
    "For possible input combinations, you can inspect the signature of the constructor using `State?`."
   ]
  },
  {
   "cell_type": "code",
   "execution_count": 4,
   "metadata": {},
   "outputs": [
    {
     "data": {
      "text/plain": [
       "\u001b[0;31mInit signature:\u001b[0m \u001b[0mState\u001b[0m\u001b[0;34m(\u001b[0m\u001b[0mself\u001b[0m\u001b[0;34m,\u001b[0m \u001b[0;34m/\u001b[0m\u001b[0;34m,\u001b[0m \u001b[0;34m*\u001b[0m\u001b[0margs\u001b[0m\u001b[0;34m,\u001b[0m \u001b[0;34m**\u001b[0m\u001b[0mkwargs\u001b[0m\u001b[0;34m)\u001b[0m\u001b[0;34m\u001b[0m\u001b[0;34m\u001b[0m\u001b[0m\n",
       "\u001b[0;31mDocstring:\u001b[0m     \n",
       "A thermodynamic state at given conditions.\n",
       "\n",
       "Parameters\n",
       "----------\n",
       "eos : Eos\n",
       "    The equation of state to use.\n",
       "temperature : SINumber, optional\n",
       "    Temperature.\n",
       "volume : SINumber, optional\n",
       "    Volume.\n",
       "density : SINumber, optional\n",
       "    Molar density.\n",
       "partial_density : SIArray1, optional\n",
       "    Partial molar densities.\n",
       "total_moles : SINumber, optional\n",
       "    Total amount of substance (of a mixture).\n",
       "moles : SIArray1, optional\n",
       "    Amount of substance for each component.\n",
       "molefracs : numpy.ndarray[float]\n",
       "    Molar fraction of each component.\n",
       "pressure : SINumber, optional\n",
       "    System pressure.\n",
       "enthalpy : SINumber, optional\n",
       "    System enthalpy.\n",
       "entropy : SINumber, optional\n",
       "    System entropy.\n",
       "density_initialization : {'vapor', 'liquid', SINumber, None}, optional\n",
       "    Method used to initialize density for density iteration.\n",
       "    'vapor' and 'liquid' are inferred from the maximum density of the equation of state.\n",
       "    If no density or keyword is provided, the vapor and liquid phase is tested and, if\n",
       "    different, the result with the lower free energy is returned.\n",
       "initial_temperature : SINumber, optional\n",
       "    Initial temperature for temperature iteration. Can improve convergence\n",
       "    when the state is specified with pressure and entropy or enthalpy.\n",
       "\n",
       "Returns\n",
       "-------\n",
       "State : state at given conditions\n",
       "\n",
       "Raises\n",
       "------\n",
       "Error\n",
       "    When the state cannot be created using the combination of input.\n",
       "\u001b[0;31mType:\u001b[0m           type\n",
       "\u001b[0;31mSubclasses:\u001b[0m     \n"
      ]
     },
     "metadata": {},
     "output_type": "display_data"
    }
   ],
   "source": [
    "State?"
   ]
  },
  {
   "cell_type": "markdown",
   "metadata": {},
   "source": [
    "If we use input variables other than $\\mathbf{N}, V, T$ (the natural variables of the Helmholtz energy), creating a state is an iterative procedure.\n",
    "For example, we can create a state for a give $T, p$, which will result in a iteration of the volume (density)."
   ]
  },
  {
   "cell_type": "code",
   "execution_count": 5,
   "metadata": {},
   "outputs": [
    {
     "data": {
      "text/latex": [
       "$1.6605\\times10^{-24}\\,\\mathrm{mol}$"
      ],
      "text/plain": [
       "1.6605390671738466e-24 mol"
      ]
     },
     "execution_count": 5,
     "metadata": {},
     "output_type": "execute_result"
    }
   ],
   "source": [
    "# If no amount of substance is given, it is set to 1/NAV.\n",
    "s = State(eos, temperature=300*KELVIN, pressure=1*BAR)\n",
    "s.total_moles"
   ]
  },
  {
   "cell_type": "code",
   "execution_count": 6,
   "metadata": {},
   "outputs": [
    {
     "data": {
      "text/latex": [
       "$1\\,\\mathrm{ mol}$"
      ],
      "text/plain": [
       "1  mol"
      ]
     },
     "execution_count": 6,
     "metadata": {},
     "output_type": "execute_result"
    }
   ],
   "source": [
    "s_pt = State(eos, temperature=300*KELVIN, pressure=1*BAR, total_moles=1*MOL)\n",
    "s_pt.total_moles"
   ]
  },
  {
   "cell_type": "markdown",
   "metadata": {},
   "source": [
    "We can use other variables as well. For example, we can create a state at given $h, p$ (using the enthalpy from the prior computation as input):"
   ]
  },
  {
   "cell_type": "code",
   "execution_count": 7,
   "metadata": {},
   "outputs": [],
   "source": [
    "h = s.molar_enthalpy()\n",
    "s_ph = State(eos, pressure=1*BAR, enthalpy=s_pt.molar_enthalpy())"
   ]
  },
  {
   "cell_type": "code",
   "execution_count": 8,
   "metadata": {},
   "outputs": [
    {
     "name": "stdout",
     "output_type": "stream",
     "text": [
      "rel. dev.\n",
      "entropy    :  -2.405775647837077e-16\n",
      "density    :  -2.4710632058670096e-15\n",
      "temperature:  3.031649005909761e-15\n"
     ]
    }
   ],
   "source": [
    "# check if states are equal\n",
    "print(\"rel. dev.\")\n",
    "print(\"entropy    : \", (s_ph.molar_entropy() - s_pt.molar_entropy()) / s_pt.molar_entropy())\n",
    "print(\"density    : \", (s_ph.mass_density() - s_pt.mass_density()) / s_pt.mass_density())\n",
    "print(\"temperature: \", (s_ph.temperature - s_pt.temperature) / s_pt.temperature)"
   ]
  },
  {
   "cell_type": "markdown",
   "metadata": {},
   "source": [
    "## Critical point <a id=\"crit\"/>\n",
    "[↑ Back to top](#toc)\n",
    "\n",
    "To generate a state at critical conditions, we can use the `critical_point` constructor."
   ]
  },
  {
   "cell_type": "code",
   "execution_count": 9,
   "metadata": {},
   "outputs": [
    {
     "name": "stdout",
     "output_type": "stream",
     "text": [
      "Critical point\n",
      "temperature:  369.95061742346076 K\n",
      "density    :  198.18624580571773 kg/m³\n",
      "pressure   :  4.249677749116942 MPa\n"
     ]
    }
   ],
   "source": [
    "s_cp = State.critical_point(eos)\n",
    "print(\"Critical point\")\n",
    "print(\"temperature: \", s_cp.temperature)\n",
    "print(\"density    : \", s_cp.mass_density())\n",
    "print(\"pressure   : \", s_cp.pressure())"
   ]
  },
  {
   "cell_type": "markdown",
   "metadata": {},
   "source": [
    "## Phase equilibria and phase diagrams<a id=\"vle\"/>\n",
    "[↑ Back to top](#toc)\n",
    "\n",
    "We can also create an object, `PhaseEquilibrium`, that contains states that are in equilibrium."
   ]
  },
  {
   "cell_type": "code",
   "execution_count": 10,
   "metadata": {},
   "outputs": [
    {
     "name": "stderr",
     "output_type": "stream",
     "text": [
      "/tmp/ipykernel_11471/2221081275.py:65: RuntimeWarning: invalid value encountered in log\n",
      "  return n * (np.log(v / (v - b * n)) - ak_mix / (b * SQRT2 * 2.0 * state.temperature)\n"
     ]
    },
    {
     "data": {
      "text/markdown": [
       "||temperature|density|\n",
       "|-|-|-|\n",
       "|phase 1|350.00000 K|1.78858 kmol/m³|\n",
       "|phase 2|350.00000 K|8.19034 kmol/m³|\n"
      ],
      "text/plain": [
       "phase 0: T = 350.00000 K, ρ = 1.78858 kmol/m³\n",
       "phase 1: T = 350.00000 K, ρ = 8.19034 kmol/m³"
      ]
     },
     "execution_count": 10,
     "metadata": {},
     "output_type": "execute_result"
    }
   ],
   "source": [
    "vle = PhaseEquilibrium.pure_t(eos, temperature=350*KELVIN)\n",
    "vle"
   ]
  },
  {
   "cell_type": "markdown",
   "metadata": {},
   "source": [
    "Each phase is a `State` object. We can simply access these states and compute properties, just like before."
   ]
  },
  {
   "cell_type": "code",
   "execution_count": 11,
   "metadata": {},
   "outputs": [
    {
     "data": {
      "text/markdown": [
       "|temperature|density|\n",
       "|-|-|\n",
       "|350.00000 K|8.19034 kmol/m³|"
      ],
      "text/plain": [
       "T = 350.00000 K, ρ = 8.19034 kmol/m³"
      ]
     },
     "execution_count": 11,
     "metadata": {},
     "output_type": "execute_result"
    }
   ],
   "source": [
    "vle.liquid # the high density phase `State`"
   ]
  },
  {
   "cell_type": "code",
   "execution_count": 12,
   "metadata": {},
   "outputs": [
    {
     "data": {
      "text/markdown": [
       "|temperature|density|\n",
       "|-|-|\n",
       "|350.00000 K|1.78858 kmol/m³|"
      ],
      "text/plain": [
       "T = 350.00000 K, ρ = 1.78858 kmol/m³"
      ]
     },
     "execution_count": 12,
     "metadata": {},
     "output_type": "execute_result"
    }
   ],
   "source": [
    "vle.vapor # the low density phase `State`"
   ]
  },
  {
   "cell_type": "code",
   "execution_count": 13,
   "metadata": {},
   "outputs": [
    {
     "name": "stdout",
     "output_type": "stream",
     "text": [
      "Heat of vaporization:  8.591742172312552 kJ/mol\n",
      "for T = 350 K\n",
      "and p = 29.63 bar\n"
     ]
    }
   ],
   "source": [
    "# we can now easily compute any property:\n",
    "print(\"Heat of vaporization: \", vle.vapor.molar_enthalpy() - vle.liquid.molar_enthalpy())\n",
    "print(\"for T = {}\".format(vle.liquid.temperature))\n",
    "print(\"and p = {:.2f} bar\".format(vle.liquid.pressure() / BAR))"
   ]
  },
  {
   "cell_type": "markdown",
   "metadata": {},
   "source": [
    "We can also easily compute **vapor pressures** and **boiling temperatures**:"
   ]
  },
  {
   "cell_type": "code",
   "execution_count": 14,
   "metadata": {},
   "outputs": [
    {
     "name": "stdout",
     "output_type": "stream",
     "text": [
      "vapor pressure      (T = 300 K): 994.7761635610093 kPa\n",
      "boiling temperature (p = 3 bar): 247.8403557495675 K\n"
     ]
    },
    {
     "name": "stderr",
     "output_type": "stream",
     "text": [
      "/tmp/ipykernel_11471/2221081275.py:65: RuntimeWarning: invalid value encountered in log\n",
      "  return n * (np.log(v / (v - b * n)) - ak_mix / (b * SQRT2 * 2.0 * state.temperature)\n",
      "/tmp/ipykernel_11471/2221081275.py:66: RuntimeWarning: invalid value encountered in log\n",
      "  * np.log((v * (SQRT2 - 1.0) + b * n) / (v * (SQRT2 + 1.0) - b * n)))\n"
     ]
    }
   ],
   "source": [
    "# This also works for mixtures, in which case the pure component properties are computed.\n",
    "# Hence, the result is a list - that is why we use an index [0] here.\n",
    "print(\"vapor pressure      (T = 300 K):\", PhaseEquilibrium.vapor_pressure(eos, 300*KELVIN)[0])\n",
    "print(\"boiling temperature (p = 3 bar):\", PhaseEquilibrium.boiling_temperature(eos, 2*BAR)[0])"
   ]
  },
  {
   "cell_type": "markdown",
   "metadata": {},
   "source": [
    "### Phase Diagram\n",
    "\n",
    "We could repeatedly compute `PhaseEquilibrium` states for different temperatures / pressures to generate a phase diagram.\n",
    "Because this a common task, there is a object for that as well.\n",
    "\n",
    "The `PhaseDiagramPure` object creates multiple `PhaseEquilibrium` objects (`npoints`) between a given lower temperature and the critical point."
   ]
  },
  {
   "cell_type": "code",
   "execution_count": 15,
   "metadata": {},
   "outputs": [
    {
     "name": "stderr",
     "output_type": "stream",
     "text": [
      "/tmp/ipykernel_11471/2221081275.py:65: RuntimeWarning: invalid value encountered in log\n",
      "  return n * (np.log(v / (v - b * n)) - ak_mix / (b * SQRT2 * 2.0 * state.temperature)\n",
      "/tmp/ipykernel_11471/2221081275.py:66: RuntimeWarning: invalid value encountered in log\n",
      "  * np.log((v * (SQRT2 - 1.0) + b * n) / (v * (SQRT2 + 1.0) - b * n)))\n"
     ]
    }
   ],
   "source": [
    "dia = PhaseDiagramPure(eos, 250.0 * KELVIN, 500)"
   ]
  },
  {
   "cell_type": "markdown",
   "metadata": {},
   "source": [
    "We can have access to each `PhaseEquilbrium` and can conveniently compute any property we like:"
   ]
  },
  {
   "cell_type": "code",
   "execution_count": 16,
   "metadata": {},
   "outputs": [],
   "source": [
    "enthalpy_of_vaporization = [(vle.vapor.molar_enthalpy() - vle.liquid.molar_enthalpy()) / (KILO * JOULE) * MOL for vle in dia.states]"
   ]
  },
  {
   "cell_type": "code",
   "execution_count": 17,
   "metadata": {},
   "outputs": [
    {
     "data": {
      "image/png": "[encoded data removed]",
      "text/plain": [
       "<Figure size 504x288 with 1 Axes>"
      ]
     },
     "metadata": {},
     "output_type": "display_data"
    }
   ],
   "source": [
    "fig, ax = plt.subplots(figsize=(7, 4))\n",
    "sns.lineplot(x=dia.temperature / KELVIN, y=enthalpy_of_vaporization, ax=ax);\n",
    "ax.set_ylabel(r\"$\\Delta^{LV}h$ / kJ / mol\")\n",
    "ax.set_xlabel(r\"$T$ / K\");"
   ]
  },
  {
   "cell_type": "markdown",
   "metadata": {},
   "source": [
    "A more convenient way is to create a dictionary. The dictionary can conveniently be used with pandas dataframe objects.\n",
    "This is a bit less flexible, because the units of the properties are rigid. You can inspect the method signature to check what units are used."
   ]
  },
  {
   "cell_type": "code",
   "execution_count": 18,
   "metadata": {},
   "outputs": [
    {
     "data": {
      "text/plain": [
       "\u001b[0;31mDocstring:\u001b[0m\n",
       "Returns the phase diagram as dictionary.\n",
       "\n",
       "Note\n",
       "----\n",
       "temperature : K\n",
       "pressure : Pa\n",
       "densities : mol / m³\n",
       "molar enthalpies : kJ / mol\n",
       "molar entropies : kJ / mol / K\n",
       "\n",
       "Returns\n",
       "-------\n",
       "dict[str, list[float]]\n",
       "    Keys: property names. Values: property for each state.\n",
       "\u001b[0;31mType:\u001b[0m      builtin_function_or_method\n"
      ]
     },
     "metadata": {},
     "output_type": "display_data"
    }
   ],
   "source": [
    "dia.to_dict?"
   ]
  },
  {
   "cell_type": "code",
   "execution_count": 19,
   "metadata": {},
   "outputs": [
    {
     "data": {
      "text/html": [
       "<div>\n",
       "<style scoped>\n",
       "    .dataframe tbody tr th:only-of-type {\n",
       "        vertical-align: middle;\n",
       "    }\n",
       "\n",
       "    .dataframe tbody tr th {\n",
       "        vertical-align: top;\n",
       "    }\n",
       "\n",
       "    .dataframe thead th {\n",
       "        text-align: right;\n",
       "    }\n",
       "</style>\n",
       "<table border=\"1\" class=\"dataframe\">\n",
       "  <thead>\n",
       "    <tr style=\"text-align: right;\">\n",
       "      <th></th>\n",
       "      <th>molar enthalpy liquid</th>\n",
       "      <th>temperature</th>\n",
       "      <th>molar entropy liquid</th>\n",
       "      <th>molar enthalpy vapor</th>\n",
       "      <th>molar entropy vapor</th>\n",
       "      <th>pressure</th>\n",
       "      <th>density vapor</th>\n",
       "      <th>density liquid</th>\n",
       "    </tr>\n",
       "  </thead>\n",
       "  <tbody>\n",
       "    <tr>\n",
       "      <th>0</th>\n",
       "      <td>3.888854</td>\n",
       "      <td>250.000000</td>\n",
       "      <td>0.041205</td>\n",
       "      <td>21.774512</td>\n",
       "      <td>0.112747</td>\n",
       "      <td>216751.867612</td>\n",
       "      <td>110.874504</td>\n",
       "      <td>13517.744128</td>\n",
       "    </tr>\n",
       "    <tr>\n",
       "      <th>1</th>\n",
       "      <td>3.895457</td>\n",
       "      <td>250.240382</td>\n",
       "      <td>0.041231</td>\n",
       "      <td>21.769636</td>\n",
       "      <td>0.112659</td>\n",
       "      <td>218680.955365</td>\n",
       "      <td>111.801129</td>\n",
       "      <td>13509.916346</td>\n",
       "    </tr>\n",
       "    <tr>\n",
       "      <th>2</th>\n",
       "      <td>3.902072</td>\n",
       "      <td>250.480764</td>\n",
       "      <td>0.041256</td>\n",
       "      <td>21.764747</td>\n",
       "      <td>0.112570</td>\n",
       "      <td>220623.177946</td>\n",
       "      <td>112.733771</td>\n",
       "      <td>13502.075331</td>\n",
       "    </tr>\n",
       "    <tr>\n",
       "      <th>3</th>\n",
       "      <td>3.908698</td>\n",
       "      <td>250.721146</td>\n",
       "      <td>0.041282</td>\n",
       "      <td>21.759845</td>\n",
       "      <td>0.112481</td>\n",
       "      <td>222578.594255</td>\n",
       "      <td>113.672458</td>\n",
       "      <td>13494.221046</td>\n",
       "    </tr>\n",
       "    <tr>\n",
       "      <th>4</th>\n",
       "      <td>3.915336</td>\n",
       "      <td>250.961528</td>\n",
       "      <td>0.041308</td>\n",
       "      <td>21.754930</td>\n",
       "      <td>0.112393</td>\n",
       "      <td>224547.263292</td>\n",
       "      <td>114.617219</td>\n",
       "      <td>13486.353455</td>\n",
       "    </tr>\n",
       "  </tbody>\n",
       "</table>\n",
       "</div>"
      ],
      "text/plain": [
       "   molar enthalpy liquid  temperature  molar entropy liquid  \\\n",
       "0               3.888854   250.000000              0.041205   \n",
       "1               3.895457   250.240382              0.041231   \n",
       "2               3.902072   250.480764              0.041256   \n",
       "3               3.908698   250.721146              0.041282   \n",
       "4               3.915336   250.961528              0.041308   \n",
       "\n",
       "   molar enthalpy vapor  molar entropy vapor       pressure  density vapor  \\\n",
       "0             21.774512             0.112747  216751.867612     110.874504   \n",
       "1             21.769636             0.112659  218680.955365     111.801129   \n",
       "2             21.764747             0.112570  220623.177946     112.733771   \n",
       "3             21.759845             0.112481  222578.594255     113.672458   \n",
       "4             21.754930             0.112393  224547.263292     114.617219   \n",
       "\n",
       "   density liquid  \n",
       "0    13517.744128  \n",
       "1    13509.916346  \n",
       "2    13502.075331  \n",
       "3    13494.221046  \n",
       "4    13486.353455  "
      ]
     },
     "execution_count": 19,
     "metadata": {},
     "output_type": "execute_result"
    }
   ],
   "source": [
    "data_dia = pd.DataFrame(dia.to_dict())\n",
    "data_dia.head()"
   ]
  },
  {
   "cell_type": "markdown",
   "metadata": {},
   "source": [
    "Once we have a dataframe, we can store our results or create a nicely looking plot:"
   ]
  },
  {
   "cell_type": "code",
   "execution_count": 20,
   "metadata": {},
   "outputs": [],
   "source": [
    "def phase_plot(data, x, y):\n",
    "    fig, ax = plt.subplots(figsize=(12, 6))\n",
    "    if x != \"pressure\" and x != \"temperature\":\n",
    "        xl = f\"{x} liquid\"\n",
    "        xv = f\"{x} vapor\"\n",
    "    else:\n",
    "        xl = x\n",
    "        xv = x\n",
    "    if y != \"pressure\" and y != \"temperature\":\n",
    "        yl = f\"{y} liquid\"\n",
    "        yv = f\"{y} vapor\"\n",
    "    else:\n",
    "        yv = y\n",
    "        yl = y\n",
    "    sns.lineplot(data=data, x=xv, y=yv, ax=ax, label=\"vapor\")\n",
    "    sns.lineplot(data=data, x=xl, y=yl, ax=ax, label=\"liquid\")\n",
    "    ax.set_xlabel(x)\n",
    "    ax.set_ylabel(y)\n",
    "    ax.legend(frameon=False)\n",
    "    sns.despine();"
   ]
  },
  {
   "cell_type": "code",
   "execution_count": 21,
   "metadata": {},
   "outputs": [
    {
     "data": {
      "image/png": "[encoded data removed]",
      "text/plain": [
       "<Figure size 864x432 with 1 Axes>"
      ]
     },
     "metadata": {},
     "output_type": "display_data"
    }
   ],
   "source": [
    "phase_plot(data_dia, \"density\", \"temperature\")"
   ]
  },
  {
   "cell_type": "code",
   "execution_count": 22,
   "metadata": {},
   "outputs": [
    {
     "data": {
      "image/png": "[encoded data removed]",
      "text/plain": [
       "<Figure size 864x432 with 1 Axes>"
      ]
     },
     "metadata": {},
     "output_type": "display_data"
    }
   ],
   "source": [
    "phase_plot(data_dia, \"molar entropy\", \"temperature\")"
   ]
  },
  {
   "cell_type": "markdown",
   "metadata": {},
   "source": [
    "## Mixtures <a id=\"mix\"/>\n",
    "[↑ Back to top](#toc)\n",
    "\n",
    "Fox mixtures, we have to add information about the composition, either as molar fraction, amount of substance per component, or as partial densities."
   ]
  },
  {
   "cell_type": "code",
   "execution_count": 23,
   "metadata": {},
   "outputs": [],
   "source": [
    "# propane, butane mixture\n",
    "tc = np.array([369.96, 425.2]) * KELVIN\n",
    "pc = np.array([4250000.0, 3800000.0]) * PASCAL\n",
    "omega = np.array([0.153, 0.199])\n",
    "molar_weight = np.array([44.0962, 58.123]) * GRAM / MOL\n",
    "\n",
    "eos = UserDefinedEos(PyPengRobinson(tc, pc, omega, molar_weight))"
   ]
  },
  {
   "cell_type": "code",
   "execution_count": 24,
   "metadata": {},
   "outputs": [
    {
     "data": {
      "text/markdown": [
       "|temperature|density|molefracs\n",
       "|-|-|-|\n",
       "|300.00000 K|40.96869  mol/m³|[0.50000, 0.50000]|"
      ],
      "text/plain": [
       "T = 300.00000 K, ρ = 40.96869  mol/m³, x = [0.50000, 0.50000]"
      ]
     },
     "execution_count": 24,
     "metadata": {},
     "output_type": "execute_result"
    }
   ],
   "source": [
    "s = State(eos, temperature=300*KELVIN, pressure=1*BAR, molefracs=np.array([0.5, 0.5]), total_moles=MOL)\n",
    "s"
   ]
  },
  {
   "cell_type": "markdown",
   "metadata": {},
   "source": [
    "As before, we can compute properties by calling methods on the `State` object. Some return vectors or matrices - for example the chemical potential and its derivative w.r.t amount of substance:"
   ]
  },
  {
   "cell_type": "code",
   "execution_count": 25,
   "metadata": {},
   "outputs": [
    {
     "data": {
      "text/plain": [
       "[-15625.347451682397, -12435.866602695123] J/mol"
      ]
     },
     "execution_count": 25,
     "metadata": {},
     "output_type": "execute_result"
    }
   ],
   "source": [
    "s.chemical_potential()"
   ]
  },
  {
   "cell_type": "code",
   "execution_count": 26,
   "metadata": {},
   "outputs": [
    {
     "data": {
      "text/plain": [
       "array([[ 4.90827975, -0.10593968],\n",
       "       [-0.10593968,  4.85467746]])"
      ]
     },
     "execution_count": 26,
     "metadata": {},
     "output_type": "execute_result"
    }
   ],
   "source": [
    "s.dmu_dni() / (KILO * JOULE / MOL**2)"
   ]
  },
  {
   "cell_type": "markdown",
   "metadata": {},
   "source": [
    "Phase equilibria are computed from different constructors:"
   ]
  },
  {
   "cell_type": "code",
   "execution_count": 27,
   "metadata": {},
   "outputs": [
    {
     "data": {
      "text/markdown": [
       "|temperature|density|molefracs\n",
       "|-|-|-|\n",
       "|401.65486 K|3.99952 kmol/m³|[0.50000, 0.50000]|"
      ],
      "text/plain": [
       "T = 401.65486 K, ρ = 3.99952 kmol/m³, x = [0.50000, 0.50000]"
      ]
     },
     "execution_count": 27,
     "metadata": {},
     "output_type": "execute_result"
    }
   ],
   "source": [
    "s_cp = State.critical_point(eos, moles=np.array([0.5, 0.5])*MOL)\n",
    "s_cp"
   ]
  },
  {
   "cell_type": "code",
   "execution_count": 28,
   "metadata": {},
   "outputs": [
    {
     "data": {
      "text/markdown": [
       "||temperature|density|molefracs|\n",
       "|-|-|-|-|\n",
       "|phase 1|350.00000 K|879.47505  mol/m³|[0.67625, 0.32375]|\n",
       "|phase 2|350.00000 K|8.96382 kmol/m³|[0.50000, 0.50000]|\n"
      ],
      "text/plain": [
       "phase 0: T = 350.00000 K, ρ = 879.47505  mol/m³, x = [0.67625, 0.32375]\n",
       "phase 1: T = 350.00000 K, ρ = 8.96382 kmol/m³, x = [0.50000, 0.50000]"
      ]
     },
     "execution_count": 28,
     "metadata": {},
     "output_type": "execute_result"
    }
   ],
   "source": [
    "vle = PhaseEquilibrium.bubble_point_tx(eos, 350*KELVIN, liquid_molefracs=np.array([0.5, 0.5]))\n",
    "vle"
   ]
  },
  {
   "cell_type": "code",
   "execution_count": 29,
   "metadata": {},
   "outputs": [
    {
     "name": "stderr",
     "output_type": "stream",
     "text": [
      "/tmp/ipykernel_11471/2221081275.py:65: RuntimeWarning: invalid value encountered in log\n",
      "  return n * (np.log(v / (v - b * n)) - ak_mix / (b * SQRT2 * 2.0 * state.temperature)\n",
      "/tmp/ipykernel_11471/2221081275.py:66: RuntimeWarning: invalid value encountered in log\n",
      "  * np.log((v * (SQRT2 - 1.0) + b * n) / (v * (SQRT2 + 1.0) - b * n)))\n"
     ]
    }
   ],
   "source": [
    "vle = PhaseDiagramBinary.new_pxy(eos, temperature=350*KELVIN, npoints=50)"
   ]
  },
  {
   "cell_type": "code",
   "execution_count": 30,
   "metadata": {},
   "outputs": [
    {
     "data": {
      "image/png": "[encoded data removed]",
      "text/plain": [
       "<Figure size 1296x432 with 2 Axes>"
      ]
     },
     "metadata": {},
     "output_type": "display_data"
    }
   ],
   "source": [
    "fig, ax = plt.subplots(1, 2, figsize=(18, 6))\n",
    "# fig.title(\"T = 350 K, Propane (1), Butane (2)\")\n",
    "sns.lineplot(x=vle.liquid_molefracs, y=vle.pressure / BAR, ax=ax[0])\n",
    "sns.lineplot(x=vle.vapor_molefracs, y=vle.pressure / BAR, ax=ax[0])\n",
    "ax[0].set_xlabel(r\"$x_1$, $y_1$\")\n",
    "ax[0].set_ylabel(r\"$p$ / bar\")\n",
    "ax[0].set_xlim(0, 1)\n",
    "ax[0].set_ylim(5, 35)\n",
    "# ax[0].legend(frameon=False);\n",
    "\n",
    "sns.lineplot(x=vle.liquid_molefracs, y=vle.vapor_molefracs, ax=ax[1])\n",
    "sns.lineplot(x=np.linspace(0, 1, 10), y=np.linspace(0, 1, 10), color=\"black\", alpha=0.3, ax=ax[1])\n",
    "ax[1].set_xlabel(r\"$x_1$\")\n",
    "ax[1].set_ylabel(r\"$y_1$\")\n",
    "ax[1].set_xlim(0, 1)\n",
    "ax[1].set_ylim(0, 1);"
   ]
  },
  {
   "cell_type": "markdown",
   "metadata": {},
   "source": [
    "## Comparison to Rust implementation <a id=\"rust\"/>\n",
    "[↑ Back to top](#toc)\n",
    "\n",
    "Implementing an equation of state in Python is nice for quick prototyping and development but when it comes to performance, implementing the equation of state in Rust is the way to go.\n",
    "For each non-cached call to the Helmholtz energy, we have to transition between Rust and Python with our Python implementation which generates quite some overhead.\n",
    "\n",
    "Here are some comparisons between the Rust and our Pyhton implemenation:"
   ]
  },
  {
   "cell_type": "code",
   "execution_count": 31,
   "metadata": {},
   "outputs": [],
   "source": [
    "# rust\n",
    "from feos_core.cubic import PengRobinson, State as StateR, PengRobinsonParameters, PhaseDiagramPure as PhaseDiagramPureR\n",
    "eos_rust = PengRobinson(PengRobinsonParameters.from_json([\"propane\"], \"peng-robinson.json\"))\n",
    "\n",
    "# python\n",
    "tc = SIArray1(369.96 * KELVIN)\n",
    "pc = SIArray1(4250000.0 * PASCAL)\n",
    "omega = np.array([0.153])\n",
    "molar_weight = SIArray1(44.0962 * GRAM / MOL)\n",
    "eos_python = UserDefinedEos(PyPengRobinson(tc, pc, omega, molar_weight))"
   ]
  },
  {
   "cell_type": "code",
   "execution_count": 32,
   "metadata": {},
   "outputs": [],
   "source": [
    "# let's first test if both actually yield the same results ;)\n",
    "assert abs(State.critical_point(eos_python).pressure() / BAR - StateR.critical_point(eos_rust).pressure() / BAR) < 1e-13\n",
    "assert abs(State.critical_point(eos_python).temperature / KELVIN - StateR.critical_point(eos_rust).temperature / KELVIN) < 1e-13"
   ]
  },
  {
   "cell_type": "code",
   "execution_count": 33,
   "metadata": {},
   "outputs": [],
   "source": [
    "import timeit\n",
    "\n",
    "time_python = timeit.timeit(lambda: State.critical_point(eos_python), number=2_500) * MILLI * SECOND\n",
    "time_rust = timeit.timeit(lambda: StateR.critical_point(eos_rust), number=2_500) * MILLI * SECOND"
   ]
  },
  {
   "cell_type": "code",
   "execution_count": 34,
   "metadata": {},
   "outputs": [
    {
     "name": "stdout",
     "output_type": "stream",
     "text": [
      "Critical point for pure substance\n",
      "Python implementation is slower by a factor of 48.\n"
     ]
    }
   ],
   "source": [
    "rel_dev = (time_rust - time_python) / time_rust\n",
    "print(f\"Critical point for pure substance\")\n",
    "print(f\"Python implementation is {'slower' if rel_dev < 0 else 'faster'} by a factor of {abs(time_python / time_rust):.0f}.\")"
   ]
  },
  {
   "cell_type": "code",
   "execution_count": 35,
   "metadata": {},
   "outputs": [
    {
     "name": "stderr",
     "output_type": "stream",
     "text": [
      "/tmp/ipykernel_11471/2221081275.py:65: RuntimeWarning: invalid value encountered in log\n",
      "  return n * (np.log(v / (v - b * n)) - ak_mix / (b * SQRT2 * 2.0 * state.temperature)\n",
      "/tmp/ipykernel_11471/2221081275.py:66: RuntimeWarning: invalid value encountered in log\n",
      "  * np.log((v * (SQRT2 - 1.0) + b * n) / (v * (SQRT2 + 1.0) - b * n)))\n"
     ]
    }
   ],
   "source": [
    "time_python = timeit.timeit(lambda: PhaseDiagramPure(eos_python, 250*KELVIN, 100), number=100) * MILLI * SECOND\n",
    "time_rust = timeit.timeit(lambda: PhaseDiagramPureR(eos_rust, 250*KELVIN, 100), number=100) * MILLI * SECOND"
   ]
  },
  {
   "cell_type": "code",
   "execution_count": 36,
   "metadata": {},
   "outputs": [
    {
     "name": "stdout",
     "output_type": "stream",
     "text": [
      "Phase diagram for pure substance\n",
      "Python implementation is slower by a factor of 25.\n"
     ]
    }
   ],
   "source": [
    "rel_dev = (time_rust - time_python) / time_rust\n",
    "print(f\"Phase diagram for pure substance\")\n",
    "print(f\"Python implementation is {'slower' if rel_dev < 0 else 'faster'} by a factor of {abs(time_python / time_rust):.0f}.\")"
   ]
  },
  {
   "cell_type": "code",
   "execution_count": null,
   "metadata": {},
   "outputs": [],
   "source": []
  }
 ],
 "metadata": {
  "kernelspec": {
   "display_name": "feos",
   "language": "python",
   "name": "feos"
  },
  "language_info": {
   "codemirror_mode": {
    "name": "ipython",
    "version": 3
   },
   "file_extension": ".py",
   "mimetype": "text/x-python",
   "name": "python",
   "nbconvert_exporter": "python",
   "pygments_lexer": "ipython3",
   "version": "3.8.5"
  }
 },
 "nbformat": 4,
 "nbformat_minor": 4
}
