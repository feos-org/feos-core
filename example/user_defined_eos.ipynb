{
 "cells": [
  {
   "cell_type": "code",
   "execution_count": 1,
   "metadata": {},
   "outputs": [],
   "source": [
    "from eos_core.user_defined import *\n",
    "from eos_core.si import *\n",
    "from enum import Enum\n",
    "import numpy as np\n",
    "import matplotlib.pyplot as plt\n",
    "import pandas as pd\n",
    "import seaborn as sns\n",
    "\n",
    "sns.set_style(\"ticks\")\n",
    "sns.set_palette(\"Dark2\")\n",
    "sns.set_context(\"talk\")"
   ]
  },
  {
   "cell_type": "code",
   "execution_count": 3,
   "metadata": {},
   "outputs": [
    {
     "data": {
      "text/plain": [
       "13806490.0"
      ]
     },
     "execution_count": 3,
     "metadata": {},
     "output_type": "execute_result"
    }
   ],
   "source": [
    "RGAS / NAV / ANGSTROM**3 / (KILOGRAM / METER / SECOND**2 / KELVIN)"
   ]
  },
  {
   "cell_type": "code",
   "execution_count": 8,
   "metadata": {},
   "outputs": [
    {
     "data": {
      "text/latex": [
       "$1.3806\\times10^{7}\\,\\mathrm{\\frac{kg}{ms^{2}K}}$"
      ],
      "text/plain": [
       "1.380649e7 m^-1 kg s^-2 K^-1"
      ]
     },
     "execution_count": 8,
     "metadata": {},
     "output_type": "execute_result"
    }
   ],
   "source": [
    "KB / ANGSTROM**3"
   ]
  },
  {
   "cell_type": "markdown",
   "metadata": {},
   "source": [
    "> In this tutorial, we will implement the Peng-Robinson equation of state in python.\n",
    "\n",
    "# Implementing a `UserDefinedEos`\n",
    "\n",
    "To implement an equation of state in python, we have to define a `class` that has to contain the following methods:\n",
    "\n",
    "- `components(self) -> int`: Returns the number of components (usually inferred from the shape of the input parameters).\n",
    "- `molar_weight(self) -> SIArray1`: Returns an `SIArray1` with size equal to the number of components containing the molar mass of each component.\n",
    "- `max_density(self, moles: np.ndarray[float]) -> float`: Returns the maximum allowed number density in units of `molecules/Angstrom³`.\n",
    "- `helmholtz_energy(self, state: StateHD) -> Dual`: Returns the helmholtz energy as (hyper)-dual number given a `StateHD`.\n",
    "\n",
    "## Implementing `helmholtz_energy` and the `StateHD` object.\n",
    "\n",
    "`FeOs` computes properties from the helmholtz energy function using generalized (hyper)-dual numbers as input data types for automatic differentation.\n",
    "Let's go through an example and see what the code does when we compute a property, e.g. the `pressure`.\n",
    "\n",
    "1. The pressure is defined as $p = - \\left( \\frac{\\partial A}{\\partial V} \\right)_{T, \\mathbf{N}}$. Hence, to compute the pressure, we need **the first derivative of the helmholtz energy with respect to the volume**.\n",
    "2. When we call the `pressure` method of a `State`, internally an intermediary object is created called `StateHD`.\n",
    "3. `StateHD` contains information about temperature, amount of substance (moles) and the volume of the system just like `State` but **as generalized (hyper)-dual numbers instead of dimensioned values**. When computing the pressure, the data types are `Dual64` since we only need the first derivative.\n",
    "4. Since we need the derivative w.r.t volume, **the non-real part of the `StateHD`'s volume is set to unity**.\n",
    "5. The **`StateHD` is handed over to our python implementation of `helmholtz_energy`**.\n",
    "6. We can access properties of the state (`StateHD`) by writing `state.temperature`, `state.density`, `state.volume` and so on."
   ]
  },
  {
   "cell_type": "code",
   "execution_count": 11,
   "metadata": {},
   "outputs": [],
   "source": [
    "from eos_core.user_defined import *\n",
    "from eos_core.si import *\n",
    "\n",
    "print_state = False\n",
    "\n",
    "class PengRobinson:\n",
    "    def helmholtz_energy(self, state):\n",
    "        print(\"t: {}\".format(state.temperature))\n",
    "        print(\"v: {}\".format(state.volume))\n",
    "        print(\"n: {}\".format(state.moles))\n",
    "        a = ((1.0 - np.sqrt(state.temperature / self.tc)) * self.kappa + 1.0)**2 * self.a_r\n",
    "        v = state.volume\n",
    "        n = np.sum(state.moles)\n",
    "        a_rt = n * (np.log(v / (v - self.b * n)) - a / (self.b * np.sqrt(2) * 2.0 * state.temperature)\n",
    "            * np.log((v * (np.sqrt(2) - 1.0) + self.b * n) / (v * (np.sqrt(2) + 1.0) - self.b * n)))\n",
    "        return a_rt\n",
    "    \n",
    "    def __init__(self, tc, pc, omega, mw):\n",
    "        self.tc = tc / KELVIN\n",
    "        self.omega = omega\n",
    "        self.mw = np.array([mw / (GRAM / MOL)]) * GRAM / MOL\n",
    "        self.a_r = 0.45724 * tc**2 * RGAS / pc / ANGSTROM**3 / NAV / KELVIN\n",
    "        self.b = 0.07780 * tc * RGAS / pc / ANGSTROM**3 / NAV\n",
    "        self.kappa = 0.37464 + (1.54226 - 0.26992 * omega) * omega\n",
    "                \n",
    "    def components(self): \n",
    "        return 1\n",
    "    \n",
    "    def get_subset(self, i):\n",
    "        return self\n",
    "        \n",
    "    def molar_weight(self):\n",
    "        return self.mw\n",
    "    \n",
    "    def max_density(self, moles):\n",
    "        b = np.sum(moles * self.b) / np.sum(moles);\n",
    "        return 0.9 / b"
   ]
  },
  {
   "cell_type": "markdown",
   "metadata": {},
   "source": [
    "```python\n",
    "class PengRobinson:\n",
    "    # initialization omitted\n",
    "    def helmholtz_energy(self, state):\n",
    "            print(\"t: {}\".format(state.temperature))\n",
    "            print(\"v: {}\".format(state.volume))\n",
    "            print(\"n: {}\".format(state.moles))\n",
    "            a = ((1.0 - np.sqrt(state.temperature / self.tc)) * self.kappa + 1.0)**2 * self.a_r\n",
    "            v = state.volume\n",
    "            n = np.sum(state.moles)\n",
    "            a_rt = n * (np.log(v / (v - self.b * n)) - a / (self.b * SQRT_2 * 2.0 * state.temperature)\n",
    "                * np.log((v * (SQRT_2 - 1.0) + self.b * n) / (v * (SQRT_2 + 1.0) - self.b * n)))\n",
    "            return a_rt\n",
    "``` "
   ]
  },
  {
   "cell_type": "code",
   "execution_count": 32,
   "metadata": {},
   "outputs": [],
   "source": [
    "n_hexane = { \n",
    "    \"mw\": 86.175 * GRAM / MOL, \"tc\": 507.82 * KELVIN, \n",
    "    \"pc\": 30.4 * BAR, \"omega\": np.array([0.3003])\n",
    "}\n",
    "eos = UserDefinedEos(PengRobinson(**n_hexane))"
   ]
  },
  {
   "cell_type": "code",
   "execution_count": 35,
   "metadata": {},
   "outputs": [],
   "source": [
    "state = State(eos, temperature=300*KELVIN, volume=215.85*ANGSTROM**3)"
   ]
  },
  {
   "cell_type": "code",
   "execution_count": 36,
   "metadata": {},
   "outputs": [
    {
     "name": "stdout",
     "output_type": "stream",
     "text": [
      "t: 300.0\n",
      "v: 215.85\n",
      "n: [1.0]\n"
     ]
    },
    {
     "data": {
      "text/latex": [
       "$-8491.9\\,\\mathrm{\\frac{J}{mol}}$"
      ],
      "text/plain": [
       "-8.49194909880421e3 J/mol"
      ]
     },
     "execution_count": 36,
     "metadata": {},
     "output_type": "execute_result"
    }
   ],
   "source": [
    "state.molar_helmholtz_energy() # .dp_dt() # .pressure()"
   ]
  },
  {
   "cell_type": "code",
   "execution_count": 39,
   "metadata": {},
   "outputs": [
    {
     "name": "stdout",
     "output_type": "stream",
     "text": [
      "t: 300 + [1]ε + [0 + [0]ε]ε1 + [0 + [0]ε]ε2 + [0 + [0]ε]ε1ε2\n",
      "v: 664.5617376827972 + [-0]ε + [0 + [0]ε]ε1 + [0 + [0]ε]ε2 + [0 + [0]ε]ε1ε2\n",
      "n: [1 + [0]ε + [1 + [0]ε]ε1 + [1 + [0]ε]ε2 + [0 + [0]ε]ε1ε2]\n",
      "t: 300 + [1]ε + 0 + [0]εv1 + 0 + [0]εv2 + 0 + [0]εv3\n",
      "v: 664.5617376827972 + [-0]ε + 0 + [0]εv1 + 0 + [0]εv2 + 0 + [0]εv3\n",
      "n: [1 + [0]ε + 1 + [0]εv1 + 0 + [0]εv2 + 0 + [0]εv3]\n",
      "t: 300 + [0]ε + [0 + [0]ε]ε1 + [0 + [0]ε]ε2 + [0 + [0]ε]ε1ε2\n",
      "v: 664.5617376827972 + [-441642.303191979]ε + [0 + [0]ε]ε1 + [0 + [0]ε]ε2 + [0 + [0]ε]ε1ε2\n",
      "n: [1 + [0]ε + [1 + [0]ε]ε1 + [1 + [0]ε]ε2 + [0 + [0]ε]ε1ε2]\n",
      "t: 300 + [0]ε + 0 + [0]εv1 + 0 + [0]εv2 + 0 + [0]εv3\n",
      "v: 664.5617376827972 + [-441642.303191979]ε + 0 + [0]εv1 + 0 + [0]εv2 + 0 + [0]εv3\n",
      "n: [1 + [0]ε + 1 + [0]εv1 + 0 + [0]εv2 + 0 + [0]εv3]\n",
      "t: 375 + [1]ε + [0 + [0]ε]ε1 + [0 + [0]ε]ε2 + [0 + [0]ε]ε1ε2\n",
      "v: 691.5936890640284 + [-0]ε + [0 + [0]ε]ε1 + [0 + [0]ε]ε2 + [0 + [0]ε]ε1ε2\n",
      "n: [1 + [0]ε + [1 + [0]ε]ε1 + [1 + [0]ε]ε2 + [0 + [0]ε]ε1ε2]\n",
      "t: 375 + [1]ε + 0 + [0]εv1 + 0 + [0]εv2 + 0 + [0]εv3\n",
      "v: 691.5936890640284 + [-0]ε + 0 + [0]εv1 + 0 + [0]εv2 + 0 + [0]εv3\n",
      "n: [1 + [0]ε + 1 + [0]εv1 + 0 + [0]εv2 + 0 + [0]εv3]\n",
      "t: 375 + [0]ε + [0 + [0]ε]ε1 + [0 + [0]ε]ε2 + [0 + [0]ε]ε1ε2\n",
      "v: 691.5936890640284 + [-478301.83075319196]ε + [0 + [0]ε]ε1 + [0 + [0]ε]ε2 + [0 + [0]ε]ε1ε2\n",
      "n: [1 + [0]ε + [1 + [0]ε]ε1 + [1 + [0]ε]ε2 + [0 + [0]ε]ε1ε2]\n",
      "t: 375 + [0]ε + 0 + [0]εv1 + 0 + [0]εv2 + 0 + [0]εv3\n",
      "v: 691.5936890640284 + [-478301.83075319196]ε + 0 + [0]εv1 + 0 + [0]εv2 + 0 + [0]εv3\n",
      "n: [1 + [0]ε + 1 + [0]εv1 + 0 + [0]εv2 + 0 + [0]εv3]\n",
      "t: 466.97857598104764 + [1]ε + [0 + [0]ε]ε1 + [0 + [0]ε]ε2 + [0 + [0]ε]ε1ε2\n",
      "v: 708.1730033288123 + [-0]ε + [0 + [0]ε]ε1 + [0 + [0]ε]ε2 + [0 + [0]ε]ε1ε2\n",
      "n: [1 + [0]ε + [1 + [0]ε]ε1 + [1 + [0]ε]ε2 + [0 + [0]ε]ε1ε2]\n",
      "t: 466.97857598104764 + [1]ε + 0 + [0]εv1 + 0 + [0]εv2 + 0 + [0]εv3\n",
      "v: 708.1730033288123 + [-0]ε + 0 + [0]εv1 + 0 + [0]εv2 + 0 + [0]εv3\n",
      "n: [1 + [0]ε + 1 + [0]εv1 + 0 + [0]εv2 + 0 + [0]εv3]\n",
      "t: 466.97857598104764 + [0]ε + [0 + [0]ε]ε1 + [0 + [0]ε]ε2 + [0 + [0]ε]ε1ε2\n",
      "v: 708.1730033288123 + [-501509.00264375005]ε + [0 + [0]ε]ε1 + [0 + [0]ε]ε2 + [0 + [0]ε]ε1ε2\n",
      "n: [1 + [0]ε + [1 + [0]ε]ε1 + [1 + [0]ε]ε2 + [0 + [0]ε]ε1ε2]\n",
      "t: 466.97857598104764 + [0]ε + 0 + [0]εv1 + 0 + [0]εv2 + 0 + [0]εv3\n",
      "v: 708.1730033288123 + [-501509.00264375005]ε + 0 + [0]εv1 + 0 + [0]εv2 + 0 + [0]εv3\n",
      "n: [1 + [0]ε + 1 + [0]εv1 + 0 + [0]εv2 + 0 + [0]εv3]\n",
      "t: 503.90301757205253 + [1]ε + [0 + [0]ε]ε1 + [0 + [0]ε]ε2 + [0 + [0]ε]ε1ε2\n",
      "v: 708.9940682845771 + [-0]ε + [0 + [0]ε]ε1 + [0 + [0]ε]ε2 + [0 + [0]ε]ε1ε2\n",
      "n: [1 + [0]ε + [1 + [0]ε]ε1 + [1 + [0]ε]ε2 + [0 + [0]ε]ε1ε2]\n",
      "t: 503.90301757205253 + [1]ε + 0 + [0]εv1 + 0 + [0]εv2 + 0 + [0]εv3\n",
      "v: 708.9940682845771 + [-0]ε + 0 + [0]εv1 + 0 + [0]εv2 + 0 + [0]εv3\n",
      "n: [1 + [0]ε + 1 + [0]εv1 + 0 + [0]εv2 + 0 + [0]εv3]\n",
      "t: 503.90301757205253 + [0]ε + [0 + [0]ε]ε1 + [0 + [0]ε]ε2 + [0 + [0]ε]ε1ε2\n",
      "v: 708.9940682845771 + [-502672.5888627156]ε + [0 + [0]ε]ε1 + [0 + [0]ε]ε2 + [0 + [0]ε]ε1ε2\n",
      "n: [1 + [0]ε + [1 + [0]ε]ε1 + [1 + [0]ε]ε2 + [0 + [0]ε]ε1ε2]\n",
      "t: 503.90301757205253 + [0]ε + 0 + [0]εv1 + 0 + [0]εv2 + 0 + [0]εv3\n",
      "v: 708.9940682845771 + [-502672.5888627156]ε + 0 + [0]εv1 + 0 + [0]εv2 + 0 + [0]εv3\n",
      "n: [1 + [0]ε + 1 + [0]εv1 + 0 + [0]εv2 + 0 + [0]εv3]\n",
      "t: 507.772498574356 + [1]ε + [0 + [0]ε]ε1 + [0 + [0]ε]ε2 + [0 + [0]ε]ε1ε2\n",
      "v: 709.0014540162664 + [-0]ε + [0 + [0]ε]ε1 + [0 + [0]ε]ε2 + [0 + [0]ε]ε1ε2\n",
      "n: [1 + [0]ε + [1 + [0]ε]ε1 + [1 + [0]ε]ε2 + [0 + [0]ε]ε1ε2]\n",
      "t: 507.772498574356 + [1]ε + 0 + [0]εv1 + 0 + [0]εv2 + 0 + [0]εv3\n",
      "v: 709.0014540162664 + [-0]ε + 0 + [0]εv1 + 0 + [0]εv2 + 0 + [0]εv3\n",
      "n: [1 + [0]ε + 1 + [0]εv1 + 0 + [0]εv2 + 0 + [0]εv3]\n",
      "t: 507.772498574356 + [0]ε + [0 + [0]ε]ε1 + [0 + [0]ε]ε2 + [0 + [0]ε]ε1ε2\n",
      "v: 709.0014540162664 + [-502683.0617971799]ε + [0 + [0]ε]ε1 + [0 + [0]ε]ε2 + [0 + [0]ε]ε1ε2\n",
      "n: [1 + [0]ε + [1 + [0]ε]ε1 + [1 + [0]ε]ε2 + [0 + [0]ε]ε1ε2]\n",
      "t: 507.772498574356 + [0]ε + 0 + [0]εv1 + 0 + [0]εv2 + 0 + [0]εv3\n",
      "v: 709.0014540162664 + [-502683.0617971799]ε + 0 + [0]εv1 + 0 + [0]εv2 + 0 + [0]εv3\n",
      "n: [1 + [0]ε + 1 + [0]εv1 + 0 + [0]εv2 + 0 + [0]εv3]\n",
      "t: 507.80860340894833 + [1]ε + [0 + [0]ε]ε1 + [0 + [0]ε]ε2 + [0 + [0]ε]ε1ε2\n",
      "v: 709.0014593066767 + [-0]ε + [0 + [0]ε]ε1 + [0 + [0]ε]ε2 + [0 + [0]ε]ε1ε2\n",
      "n: [1 + [0]ε + [1 + [0]ε]ε1 + [1 + [0]ε]ε2 + [0 + [0]ε]ε1ε2]\n",
      "t: 507.80860340894833 + [1]ε + 0 + [0]εv1 + 0 + [0]εv2 + 0 + [0]εv3\n",
      "v: 709.0014593066767 + [-0]ε + 0 + [0]εv1 + 0 + [0]εv2 + 0 + [0]εv3\n",
      "n: [1 + [0]ε + 1 + [0]εv1 + 0 + [0]εv2 + 0 + [0]εv3]\n",
      "t: 507.80860340894833 + [0]ε + [0 + [0]ε]ε1 + [0 + [0]ε]ε2 + [0 + [0]ε]ε1ε2\n",
      "v: 709.0014593066767 + [-502683.0692989971]ε + [0 + [0]ε]ε1 + [0 + [0]ε]ε2 + [0 + [0]ε]ε1ε2\n",
      "n: [1 + [0]ε + [1 + [0]ε]ε1 + [1 + [0]ε]ε2 + [0 + [0]ε]ε1ε2]\n",
      "t: 507.80860340894833 + [0]ε + 0 + [0]εv1 + 0 + [0]εv2 + 0 + [0]εv3\n",
      "v: 709.0014593066767 + [-502683.0692989971]ε + 0 + [0]εv1 + 0 + [0]εv2 + 0 + [0]εv3\n",
      "n: [1 + [0]ε + 1 + [0]εv1 + 0 + [0]εv2 + 0 + [0]εv3]\n",
      "t: 507.8086064986555 + [1]ε + [0 + [0]ε]ε1 + [0 + [0]ε]ε2 + [0 + [0]ε]ε1ε2\n",
      "v: 709.0014593067114 + [-0]ε + [0 + [0]ε]ε1 + [0 + [0]ε]ε2 + [0 + [0]ε]ε1ε2\n",
      "n: [1 + [0]ε + [1 + [0]ε]ε1 + [1 + [0]ε]ε2 + [0 + [0]ε]ε1ε2]\n",
      "t: 507.8086064986555 + [1]ε + 0 + [0]εv1 + 0 + [0]εv2 + 0 + [0]εv3\n",
      "v: 709.0014593067114 + [-0]ε + 0 + [0]εv1 + 0 + [0]εv2 + 0 + [0]εv3\n",
      "n: [1 + [0]ε + 1 + [0]εv1 + 0 + [0]εv2 + 0 + [0]εv3]\n",
      "t: 507.8086064986555 + [0]ε + [0 + [0]ε]ε1 + [0 + [0]ε]ε2 + [0 + [0]ε]ε1ε2\n",
      "v: 709.0014593067114 + [-502683.0692990463]ε + [0 + [0]ε]ε1 + [0 + [0]ε]ε2 + [0 + [0]ε]ε1ε2\n",
      "n: [1 + [0]ε + [1 + [0]ε]ε1 + [1 + [0]ε]ε2 + [0 + [0]ε]ε1ε2]\n",
      "t: 507.8086064986555 + [0]ε + 0 + [0]εv1 + 0 + [0]εv2 + 0 + [0]εv3\n",
      "v: 709.0014593067114 + [-502683.0692990463]ε + 0 + [0]εv1 + 0 + [0]εv2 + 0 + [0]εv3\n",
      "n: [1 + [0]ε + 1 + [0]εv1 + 0 + [0]εv2 + 0 + [0]εv3]\n",
      "t: 507.8086064986554 + [0]ε\n",
      "v: 709.0014593067112 + [1]ε\n",
      "n: [1 + [0]ε]\n"
     ]
    },
    {
     "data": {
      "text/latex": [
       "$3.0398\\,\\mathrm{MPa}$"
      ],
      "text/plain": [
       "3.0397783872523605 MPa"
      ]
     },
     "execution_count": 39,
     "metadata": {},
     "output_type": "execute_result"
    }
   ],
   "source": [
    "State.critical_point(eos).pressure()"
   ]
  },
  {
   "cell_type": "code",
   "execution_count": 251,
   "metadata": {},
   "outputs": [
    {
     "ename": "RuntimeError",
     "evalue": "System is supercritical.",
     "output_type": "error",
     "traceback": [
      "\u001b[0;31m---------------------------------------------------------------------------\u001b[0m",
      "\u001b[0;31mRuntimeError\u001b[0m                              Traceback (most recent call last)",
      "\u001b[0;32m/tmp/ipykernel_9266/3674481666.py\u001b[0m in \u001b[0;36m<module>\u001b[0;34m\u001b[0m\n\u001b[0;32m----> 1\u001b[0;31m \u001b[0mdia\u001b[0m \u001b[0;34m=\u001b[0m \u001b[0mPhaseDiagramBinary\u001b[0m\u001b[0;34m.\u001b[0m\u001b[0mnew_pxy\u001b[0m\u001b[0;34m(\u001b[0m\u001b[0meos\u001b[0m\u001b[0;34m,\u001b[0m \u001b[0;36m100.0\u001b[0m\u001b[0;34m*\u001b[0m\u001b[0mKELVIN\u001b[0m\u001b[0;34m,\u001b[0m \u001b[0;36m101\u001b[0m\u001b[0;34m)\u001b[0m\u001b[0;34m\u001b[0m\u001b[0;34m\u001b[0m\u001b[0m\n\u001b[0m",
      "\u001b[0;31mRuntimeError\u001b[0m: System is supercritical."
     ]
    }
   ],
   "source": [
    "dia = PhaseDiagramBinary.new_pxy(eos, 100.0*KELVIN, 101)"
   ]
  },
  {
   "cell_type": "code",
   "execution_count": 21,
   "metadata": {},
   "outputs": [
    {
     "name": "stdout",
     "output_type": "stream",
     "text": [
      "t: 300 + [1]ε + [0 + [0]ε]ε1 + [0 + [0]ε]ε2 + [0 + [0]ε]ε1ε2\n",
      "v: 663.6633191043778 + [-0]ε + [0 + [0]ε]ε1 + [0 + [0]ε]ε2 + [0 + [0]ε]ε1ε2\n",
      "n: [1 + [0]ε + [1 + [0]ε]ε1 + [1 + [0]ε]ε2 + [0 + [0]ε]ε1ε2]\n",
      "t: 300 + [1]ε + 0 + [0]εv1 + 0 + [0]εv2 + 0 + [0]εv3\n",
      "v: 663.6633191043778 + [-0]ε + 0 + [0]εv1 + 0 + [0]εv2 + 0 + [0]εv3\n",
      "n: [1 + [0]ε + 1 + [0]εv1 + 0 + [0]εv2 + 0 + [0]εv3]\n",
      "t: 300 + [0]ε + [0 + [0]ε]ε1 + [0 + [0]ε]ε2 + [0 + [0]ε]ε1ε2\n",
      "v: 663.6633191043778 + [-440449.00112463924]ε + [0 + [0]ε]ε1 + [0 + [0]ε]ε2 + [0 + [0]ε]ε1ε2\n",
      "n: [1 + [0]ε + [1 + [0]ε]ε1 + [1 + [0]ε]ε2 + [0 + [0]ε]ε1ε2]\n",
      "t: 300 + [0]ε + 0 + [0]εv1 + 0 + [0]εv2 + 0 + [0]εv3\n",
      "v: 663.6633191043778 + [-440449.00112463924]ε + 0 + [0]εv1 + 0 + [0]εv2 + 0 + [0]εv3\n",
      "n: [1 + [0]ε + 1 + [0]εv1 + 0 + [0]εv2 + 0 + [0]εv3]\n",
      "t: 375 + [1]ε + [0 + [0]ε]ε1 + [0 + [0]ε]ε2 + [0 + [0]ε]ε1ε2\n",
      "v: 690.6587659840727 + [-0]ε + [0 + [0]ε]ε1 + [0 + [0]ε]ε2 + [0 + [0]ε]ε1ε2\n",
      "n: [1 + [0]ε + [1 + [0]ε]ε1 + [1 + [0]ε]ε2 + [0 + [0]ε]ε1ε2]\n",
      "t: 375 + [1]ε + 0 + [0]εv1 + 0 + [0]εv2 + 0 + [0]εv3\n",
      "v: 690.6587659840727 + [-0]ε + 0 + [0]εv1 + 0 + [0]εv2 + 0 + [0]εv3\n",
      "n: [1 + [0]ε + 1 + [0]εv1 + 0 + [0]εv2 + 0 + [0]εv3]\n",
      "t: 375 + [0]ε + [0 + [0]ε]ε1 + [0 + [0]ε]ε2 + [0 + [0]ε]ε1ε2\n",
      "v: 690.6587659840727 + [-477009.5310306421]ε + [0 + [0]ε]ε1 + [0 + [0]ε]ε2 + [0 + [0]ε]ε1ε2\n",
      "n: [1 + [0]ε + [1 + [0]ε]ε1 + [1 + [0]ε]ε2 + [0 + [0]ε]ε1ε2]\n",
      "t: 375 + [0]ε + 0 + [0]εv1 + 0 + [0]εv2 + 0 + [0]εv3\n",
      "v: 690.6587659840727 + [-477009.5310306421]ε + 0 + [0]εv1 + 0 + [0]εv2 + 0 + [0]εv3\n",
      "n: [1 + [0]ε + 1 + [0]εv1 + 0 + [0]εv2 + 0 + [0]εv3]\n",
      "t: 466.9784471705132 + [1]ε + [0 + [0]ε]ε1 + [0 + [0]ε]ε2 + [0 + [0]ε]ε1ε2\n",
      "v: 707.2156220107622 + [-0]ε + [0 + [0]ε]ε1 + [0 + [0]ε]ε2 + [0 + [0]ε]ε1ε2\n",
      "n: [1 + [0]ε + [1 + [0]ε]ε1 + [1 + [0]ε]ε2 + [0 + [0]ε]ε1ε2]\n",
      "t: 466.9784471705132 + [1]ε + 0 + [0]εv1 + 0 + [0]εv2 + 0 + [0]εv3\n",
      "v: 707.2156220107622 + [-0]ε + 0 + [0]εv1 + 0 + [0]εv2 + 0 + [0]εv3\n",
      "n: [1 + [0]ε + 1 + [0]εv1 + 0 + [0]εv2 + 0 + [0]εv3]\n",
      "t: 466.9784471705132 + [0]ε + [0 + [0]ε]ε1 + [0 + [0]ε]ε2 + [0 + [0]ε]ε1ε2\n",
      "v: 707.2156220107622 + [-500153.9360160693]ε + [0 + [0]ε]ε1 + [0 + [0]ε]ε2 + [0 + [0]ε]ε1ε2\n",
      "n: [1 + [0]ε + [1 + [0]ε]ε1 + [1 + [0]ε]ε2 + [0 + [0]ε]ε1ε2]\n",
      "t: 466.9784471705132 + [0]ε + 0 + [0]εv1 + 0 + [0]εv2 + 0 + [0]εv3\n",
      "v: 707.2156220107622 + [-500153.9360160693]ε + 0 + [0]εv1 + 0 + [0]εv2 + 0 + [0]εv3\n",
      "n: [1 + [0]ε + 1 + [0]εv1 + 0 + [0]εv2 + 0 + [0]εv3]\n",
      "t: 503.90297478204633 + [1]ε + [0 + [0]ε]ε1 + [0 + [0]ε]ε2 + [0 + [0]ε]ε1ε2\n",
      "v: 708.0355816333076 + [-0]ε + [0 + [0]ε]ε1 + [0 + [0]ε]ε2 + [0 + [0]ε]ε1ε2\n",
      "n: [1 + [0]ε + [1 + [0]ε]ε1 + [1 + [0]ε]ε2 + [0 + [0]ε]ε1ε2]\n",
      "t: 503.90297478204633 + [1]ε + 0 + [0]εv1 + 0 + [0]εv2 + 0 + [0]εv3\n",
      "v: 708.0355816333076 + [-0]ε + 0 + [0]εv1 + 0 + [0]εv2 + 0 + [0]εv3\n",
      "n: [1 + [0]ε + 1 + [0]εv1 + 0 + [0]εv2 + 0 + [0]εv3]\n",
      "t: 503.90297478204633 + [0]ε + [0 + [0]ε]ε1 + [0 + [0]ε]ε2 + [0 + [0]ε]ε1ε2\n",
      "v: 708.0355816333076 + [-501314.3848588162]ε + [0 + [0]ε]ε1 + [0 + [0]ε]ε2 + [0 + [0]ε]ε1ε2\n",
      "n: [1 + [0]ε + [1 + [0]ε]ε1 + [1 + [0]ε]ε2 + [0 + [0]ε]ε1ε2]\n",
      "t: 503.90297478204633 + [0]ε + 0 + [0]εv1 + 0 + [0]εv2 + 0 + [0]εv3\n",
      "v: 708.0355816333076 + [-501314.3848588162]ε + 0 + [0]εv1 + 0 + [0]εv2 + 0 + [0]εv3\n",
      "n: [1 + [0]ε + 1 + [0]εv1 + 0 + [0]εv2 + 0 + [0]εv3]\n",
      "t: 507.77249775119896 + [1]ε + [0 + [0]ε]ε1 + [0 + [0]ε]ε2 + [0 + [0]ε]ε1ε2\n",
      "v: 708.0429575478946 + [-0]ε + [0 + [0]ε]ε1 + [0 + [0]ε]ε2 + [0 + [0]ε]ε1ε2\n",
      "n: [1 + [0]ε + [1 + [0]ε]ε1 + [1 + [0]ε]ε2 + [0 + [0]ε]ε1ε2]\n",
      "t: 507.77249775119896 + [1]ε + 0 + [0]εv1 + 0 + [0]εv2 + 0 + [0]εv3\n",
      "v: 708.0429575478946 + [-0]ε + 0 + [0]εv1 + 0 + [0]εv2 + 0 + [0]εv3\n",
      "n: [1 + [0]ε + 1 + [0]εv1 + 0 + [0]εv2 + 0 + [0]εv3]\n",
      "t: 507.77249775119896 + [0]ε + [0 + [0]ε]ε1 + [0 + [0]ε]ε2 + [0 + [0]ε]ε1ε2\n",
      "v: 708.0429575478946 + [-501324.8297331697]ε + [0 + [0]ε]ε1 + [0 + [0]ε]ε2 + [0 + [0]ε]ε1ε2\n",
      "n: [1 + [0]ε + [1 + [0]ε]ε1 + [1 + [0]ε]ε2 + [0 + [0]ε]ε1ε2]\n",
      "t: 507.77249775119896 + [0]ε + 0 + [0]εv1 + 0 + [0]εv2 + 0 + [0]εv3\n",
      "v: 708.0429575478946 + [-501324.8297331697]ε + 0 + [0]εv1 + 0 + [0]εv2 + 0 + [0]εv3\n",
      "n: [1 + [0]ε + 1 + [0]εv1 + 0 + [0]εv2 + 0 + [0]εv3]\n",
      "t: 507.8086035729162 + [1]ε + [0 + [0]ε]ε1 + [0 + [0]ε]ε2 + [0 + [0]ε]ε1ε2\n",
      "v: 708.0429628314076 + [-0]ε + [0 + [0]ε]ε1 + [0 + [0]ε]ε2 + [0 + [0]ε]ε1ε2\n",
      "n: [1 + [0]ε + [1 + [0]ε]ε1 + [1 + [0]ε]ε2 + [0 + [0]ε]ε1ε2]\n",
      "t: 507.8086035729162 + [1]ε + 0 + [0]εv1 + 0 + [0]εv2 + 0 + [0]εv3\n",
      "v: 708.0429628314076 + [-0]ε + 0 + [0]εv1 + 0 + [0]εv2 + 0 + [0]εv3\n",
      "n: [1 + [0]ε + 1 + [0]εv1 + 0 + [0]εv2 + 0 + [0]εv3]\n",
      "t: 507.8086035729162 + [0]ε + [0 + [0]ε]ε1 + [0 + [0]ε]ε2 + [0 + [0]ε]ε1ε2\n",
      "v: 708.0429628314076 + [-501324.8372150781]ε + [0 + [0]ε]ε1 + [0 + [0]ε]ε2 + [0 + [0]ε]ε1ε2\n",
      "n: [1 + [0]ε + [1 + [0]ε]ε1 + [1 + [0]ε]ε2 + [0 + [0]ε]ε1ε2]\n",
      "t: 507.8086035729162 + [0]ε + 0 + [0]εv1 + 0 + [0]εv2 + 0 + [0]εv3\n",
      "v: 708.0429628314076 + [-501324.8372150781]ε + 0 + [0]εv1 + 0 + [0]εv2 + 0 + [0]εv3\n",
      "n: [1 + [0]ε + 1 + [0]εv1 + 0 + [0]εv2 + 0 + [0]εv3]\n",
      "t: 507.80860666280915 + [1]ε + [0 + [0]ε]ε1 + [0 + [0]ε]ε2 + [0 + [0]ε]ε1ε2\n",
      "v: 708.042962831442 + [-0]ε + [0 + [0]ε]ε1 + [0 + [0]ε]ε2 + [0 + [0]ε]ε1ε2\n",
      "n: [1 + [0]ε + [1 + [0]ε]ε1 + [1 + [0]ε]ε2 + [0 + [0]ε]ε1ε2]\n",
      "t: 507.80860666280915 + [1]ε + 0 + [0]εv1 + 0 + [0]εv2 + 0 + [0]εv3\n",
      "v: 708.042962831442 + [-0]ε + 0 + [0]εv1 + 0 + [0]εv2 + 0 + [0]εv3\n",
      "n: [1 + [0]ε + 1 + [0]εv1 + 0 + [0]εv2 + 0 + [0]εv3]\n",
      "t: 507.80860666280915 + [0]ε + [0 + [0]ε]ε1 + [0 + [0]ε]ε2 + [0 + [0]ε]ε1ε2\n",
      "v: 708.042962831442 + [-501324.8372151267]ε + [0 + [0]ε]ε1 + [0 + [0]ε]ε2 + [0 + [0]ε]ε1ε2\n",
      "n: [1 + [0]ε + [1 + [0]ε]ε1 + [1 + [0]ε]ε2 + [0 + [0]ε]ε1ε2]\n",
      "t: 507.80860666280915 + [0]ε + 0 + [0]εv1 + 0 + [0]εv2 + 0 + [0]εv3\n",
      "v: 708.042962831442 + [-501324.8372151267]ε + 0 + [0]εv1 + 0 + [0]εv2 + 0 + [0]εv3\n",
      "n: [1 + [0]ε + 1 + [0]εv1 + 0 + [0]εv2 + 0 + [0]εv3]\n",
      "CPU times: user 5.74 ms, sys: 379 µs, total: 6.12 ms\n",
      "Wall time: 4.8 ms\n"
     ]
    }
   ],
   "source": [
    "%%time\n",
    "s = State.critical_point(eos)"
   ]
  },
  {
   "cell_type": "code",
   "execution_count": 13,
   "metadata": {},
   "outputs": [],
   "source": [
    "state = State(eos, temperature=300*KELVIN, pressure=2.0*BAR)"
   ]
  },
  {
   "cell_type": "code",
   "execution_count": 15,
   "metadata": {},
   "outputs": [
    {
     "data": {
      "text/latex": [
       "$200\\,\\mathrm{kPa}$"
      ],
      "text/plain": [
       "199.99999999998883 kPa"
      ]
     },
     "execution_count": 15,
     "metadata": {},
     "output_type": "execute_result"
    }
   ],
   "source": [
    "print_state = True\n",
    "state.pressure()"
   ]
  },
  {
   "cell_type": "code",
   "execution_count": 5,
   "metadata": {},
   "outputs": [
    {
     "name": "stdout",
     "output_type": "stream",
     "text": [
      "Critical properties (computed vs. input)\n",
      "rel. dev. t_c = 0.0024 %\n",
      "rel. dev. p_c = 0.0075 %\n"
     ]
    }
   ],
   "source": [
    "print(\"Critical properties (computed vs. input)\")\n",
    "print(f\"rel. dev. t_c = {((523.0 * KELVIN - s.temperature) / 523.0 / KELVIN) * 100:.4f} %\")\n",
    "print(f\"rel. dev. p_c = {((25.0 * BAR - s.pressure()) / 25.0 / BAR) * 100:.4f} %\")"
   ]
  },
  {
   "cell_type": "code",
   "execution_count": 7,
   "metadata": {},
   "outputs": [
    {
     "name": "stderr",
     "output_type": "stream",
     "text": [
      "/tmp/ipykernel_4867/3096424269.py:43: RuntimeWarning: invalid value encountered in log\n",
      "  a_rt = n * (np.log(v / (v - b * n)) - a_k / (b * SQRT_2 * 2.0 * state.temperature)\n",
      "/tmp/ipykernel_4867/3096424269.py:44: RuntimeWarning: invalid value encountered in log\n",
      "  * np.log((v * (SQRT_2 - 1.0) + b * n) / (v * (SQRT_2 + 1.0) - b * n)))\n"
     ]
    }
   ],
   "source": [
    "dia = PhaseDiagramPure(eos, 330.0 * KELVIN, 500)"
   ]
  },
  {
   "cell_type": "code",
   "execution_count": 8,
   "metadata": {},
   "outputs": [],
   "source": [
    "data_dia = pd.DataFrame(dia.to_dict())"
   ]
  },
  {
   "cell_type": "code",
   "execution_count": 16,
   "metadata": {},
   "outputs": [
    {
     "data": {
      "text/html": [
       "<div>\n",
       "<style scoped>\n",
       "    .dataframe tbody tr th:only-of-type {\n",
       "        vertical-align: middle;\n",
       "    }\n",
       "\n",
       "    .dataframe tbody tr th {\n",
       "        vertical-align: top;\n",
       "    }\n",
       "\n",
       "    .dataframe thead th {\n",
       "        text-align: right;\n",
       "    }\n",
       "</style>\n",
       "<table border=\"1\" class=\"dataframe\">\n",
       "  <thead>\n",
       "    <tr style=\"text-align: right;\">\n",
       "      <th></th>\n",
       "      <th>pressure</th>\n",
       "      <th>density liquid</th>\n",
       "      <th>temperature</th>\n",
       "      <th>molar enthalpy liquid</th>\n",
       "      <th>molar enthalpy vapor</th>\n",
       "      <th>molar entropy liquid</th>\n",
       "      <th>molar entropy vapor</th>\n",
       "      <th>density vapor</th>\n",
       "    </tr>\n",
       "  </thead>\n",
       "  <tbody>\n",
       "    <tr>\n",
       "      <th>0</th>\n",
       "      <td>0.563592</td>\n",
       "      <td>5884.785724</td>\n",
       "      <td>330.000000</td>\n",
       "      <td>4.997640</td>\n",
       "      <td>32.836022</td>\n",
       "      <td>0.046825</td>\n",
       "      <td>0.131183</td>\n",
       "      <td>21.210226</td>\n",
       "    </tr>\n",
       "    <tr>\n",
       "      <th>1</th>\n",
       "      <td>0.570571</td>\n",
       "      <td>5881.507635</td>\n",
       "      <td>330.386748</td>\n",
       "      <td>5.007409</td>\n",
       "      <td>32.828417</td>\n",
       "      <td>0.046854</td>\n",
       "      <td>0.131061</td>\n",
       "      <td>21.454399</td>\n",
       "    </tr>\n",
       "    <tr>\n",
       "      <th>2</th>\n",
       "      <td>0.577618</td>\n",
       "      <td>5878.223451</td>\n",
       "      <td>330.773496</td>\n",
       "      <td>5.017195</td>\n",
       "      <td>32.820796</td>\n",
       "      <td>0.046883</td>\n",
       "      <td>0.130939</td>\n",
       "      <td>21.700763</td>\n",
       "    </tr>\n",
       "    <tr>\n",
       "      <th>3</th>\n",
       "      <td>0.584733</td>\n",
       "      <td>5874.933156</td>\n",
       "      <td>331.160244</td>\n",
       "      <td>5.027000</td>\n",
       "      <td>32.813159</td>\n",
       "      <td>0.046912</td>\n",
       "      <td>0.130818</td>\n",
       "      <td>21.949332</td>\n",
       "    </tr>\n",
       "    <tr>\n",
       "      <th>4</th>\n",
       "      <td>0.591916</td>\n",
       "      <td>5871.636730</td>\n",
       "      <td>331.546992</td>\n",
       "      <td>5.036822</td>\n",
       "      <td>32.805506</td>\n",
       "      <td>0.046942</td>\n",
       "      <td>0.130696</td>\n",
       "      <td>22.200119</td>\n",
       "    </tr>\n",
       "  </tbody>\n",
       "</table>\n",
       "</div>"
      ],
      "text/plain": [
       "   pressure  density liquid  temperature  molar enthalpy liquid  \\\n",
       "0  0.563592     5884.785724   330.000000               4.997640   \n",
       "1  0.570571     5881.507635   330.386748               5.007409   \n",
       "2  0.577618     5878.223451   330.773496               5.017195   \n",
       "3  0.584733     5874.933156   331.160244               5.027000   \n",
       "4  0.591916     5871.636730   331.546992               5.036822   \n",
       "\n",
       "   molar enthalpy vapor  molar entropy liquid  molar entropy vapor  \\\n",
       "0             32.836022              0.046825             0.131183   \n",
       "1             32.828417              0.046854             0.131061   \n",
       "2             32.820796              0.046883             0.130939   \n",
       "3             32.813159              0.046912             0.130818   \n",
       "4             32.805506              0.046942             0.130696   \n",
       "\n",
       "   density vapor  \n",
       "0      21.210226  \n",
       "1      21.454399  \n",
       "2      21.700763  \n",
       "3      21.949332  \n",
       "4      22.200119  "
      ]
     },
     "execution_count": 16,
     "metadata": {},
     "output_type": "execute_result"
    }
   ],
   "source": [
    "data_dia.head()"
   ]
  },
  {
   "cell_type": "code",
   "execution_count": 20,
   "metadata": {},
   "outputs": [
    {
     "data": {
      "image/png": "[encoded data removed]",
      "text/plain": [
       "<Figure size 864x432 with 1 Axes>"
      ]
     },
     "metadata": {},
     "output_type": "display_data"
    }
   ],
   "source": [
    "fig, ax = plt.subplots(figsize=(12, 6))\n",
    "sns.lineplot(data=data_dia, x=\"molar entropy vapor\", y=\"temperature\", ax=ax)\n",
    "sns.lineplot(data=data_dia, x=\"molar entropy liquid\", y=\"temperature\", ax=ax)\n",
    "ax.set_xlabel('s / kJ / mol / K')\n",
    "ax.set_ylabel('T / K')\n",
    "sns.despine();"
   ]
  },
  {
   "cell_type": "code",
   "execution_count": 23,
   "metadata": {},
   "outputs": [
    {
     "ename": "TypeError",
     "evalue": "not implemented!",
     "output_type": "error",
     "traceback": [
      "\u001b[0;31m---------------------------------------------------------------------------\u001b[0m",
      "\u001b[0;31mTypeError\u001b[0m                                 Traceback (most recent call last)",
      "\u001b[0;32m/tmp/ipykernel_3950/685367429.py\u001b[0m in \u001b[0;36m<module>\u001b[0;34m\u001b[0m\n\u001b[0;32m----> 1\u001b[0;31m \u001b[0mnp\u001b[0m\u001b[0;34m.\u001b[0m\u001b[0marray\u001b[0m\u001b[0;34m(\u001b[0m\u001b[0;34m[\u001b[0m\u001b[0;36m1.0\u001b[0m \u001b[0;34m*\u001b[0m \u001b[0mMOL\u001b[0m\u001b[0;34m,\u001b[0m \u001b[0;36m2.0\u001b[0m \u001b[0;34m*\u001b[0m \u001b[0mMOL\u001b[0m\u001b[0;34m]\u001b[0m\u001b[0;34m)\u001b[0m \u001b[0;34m/\u001b[0m \u001b[0mMOL\u001b[0m\u001b[0;34m\u001b[0m\u001b[0;34m\u001b[0m\u001b[0m\n\u001b[0m",
      "\u001b[0;31mTypeError\u001b[0m: not implemented!"
     ]
    }
   ],
   "source": [
    "np.array([1.0 * MOL, 2.0 * MOL]) / MOL"
   ]
  },
  {
   "cell_type": "code",
   "execution_count": 70,
   "metadata": {},
   "outputs": [
    {
     "data": {
      "image/png": "[encoded data removed]",
      "text/plain": [
       "<Figure size 864x504 with 1 Axes>"
      ]
     },
     "metadata": {
      "needs_background": "light"
     },
     "output_type": "display_data"
    }
   ],
   "source": [
    "plt.figure(figsize=(12, 7))\n",
    "plt.plot(1.0 / (dia.temperature / KELVIN), dia.pressure / BAR, \"--\")\n",
    "plt.xlabel(r\"$\\frac{1}{T}$ / $K^{-1}$\", fontsize=16)\n",
    "plt.ylabel(\"pressure / bar\", fontsize=16)\n",
    "plt.yscale(\"log\")\n",
    "plt.title(\"Saturation pressure vs temperature\", fontsize=16);"
   ]
  },
  {
   "cell_type": "code",
   "execution_count": null,
   "metadata": {},
   "outputs": [],
   "source": []
  }
 ],
 "metadata": {
  "kernelspec": {
   "display_name": "eos_core",
   "language": "python",
   "name": "eos_core"
  },
  "language_info": {
   "codemirror_mode": {
    "name": "ipython",
    "version": 3
   },
   "file_extension": ".py",
   "mimetype": "text/x-python",
   "name": "python",
   "nbconvert_exporter": "python",
   "pygments_lexer": "ipython3",
   "version": "3.8.1"
  }
 },
 "nbformat": 4,
 "nbformat_minor": 4
}
