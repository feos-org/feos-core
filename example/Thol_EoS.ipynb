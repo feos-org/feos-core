{
 "cells": [
  {
   "cell_type": "markdown",
   "metadata": {},
   "source": [
    "**Thol EoS for Lennard Jones fluid**"
   ]
  },
  {
   "cell_type": "code",
   "execution_count": 8,
   "metadata": {},
   "outputs": [],
   "source": [
    "from eos_core.user_defined import *\n",
    "from eos_core.user_defined.num_dual import *\n",
    "from eos_core import *\n",
    "from eos_core.si import *\n",
    "import numpy as np\n",
    "import pandas as pd\n",
    "import matplotlib.pyplot as plt"
   ]
  },
  {
   "cell_type": "code",
   "execution_count": 9,
   "metadata": {},
   "outputs": [],
   "source": [
    "# Parameters for Thol EoS:\n",
    "A = np.array([1.0, 1.0, 1.0, 1.0, 1.0, 1.0, 2.0, 2.0, 2.0, 2.0, 2.0,\n",
    "              2.0, 3.0, 3.0, 3.0, 3.0, 3.0, 3.0, 3.0, 3.0, 3.0, 3.0, 3.0])\n",
    "N = np.array([0.005208073, 2.186252000, -2.161016000, 1.452700000, -2.041792000, 0.186952860, -0.090988445, \n",
    "              -0.497456100, 0.109014310, -0.800559220, -0.568839000, -0.620862500, -1.466717700, 1.891469000, \n",
    "              -0.138370100, -0.386964500, 0.126570200, 0.605781000, 1.179189000, -0.477326790, -9.921857500, -0.574793200, 0.003772923])\n",
    "T = np.array([1.000, 0.320, 0.505, 0.672, 0.843, 0.898, 1.294, 2.590, 1.786, 2.770, 1.786,\n",
    "              1.205, 2.830, 2.548, 4.650, 1.385, 1.460, 1.351, 0.660, 1.496, 1.830, 1.616, 4.970])\n",
    "D = np.array([4.0, 1.0, 1.0, 2.0, 2.0, 3.0, 5.0, 2.0, 2.0, 3.0, 1.0,\n",
    "              1.0, 1.0, 1.0, 2.0, 3.0, 3.0, 2.0, 1.0, 2.0, 3.0, 1.0, 1.0])\n",
    "L = np.array([0.0, 0.0, 0.0, 0.0, 0.0, 0.0, 1.0, 2.0, 1.0, 2.0, 2.0,\n",
    "              1.0, 0.0, 0.0, 0.0, 0.0, 0.0, 0.0, 0.0, 0.0, 0.0, 0.0, 0.0])\n",
    "ETA = np.array([0, 0, 0, 0, 0, 0, 0, 0, 0, 0, 0, 0, 2.067, 1.522,\n",
    "                8.82, 1.722, 0.679, 1.883, 3.925, 2.461, 28.2, 0.753, 0.82])\n",
    "BETA = np.array([0, 0, 0, 0, 0, 0, 0, 0, 0, 0, 0, 0, 0.625,\n",
    "                 0.638, 3.91, 0.156, 0.157, 0.153, 1.16, 1.73, 383, 0.112, 0.119])\n",
    "GAMMA = np.array([0, 0, 0, 0, 0, 0, 0, 0, 0, 0, 0, 0, 0.71,\n",
    "                  0.86, 1.94, 1.48, 1.49, 1.945, 3.02, 1.11, 1.17, 1.33, 0.24])\n",
    "EPSILON = np.array([0, 0, 0, 0, 0, 0, 0, 0, 0, 0, 0, 0, 0.2053,\n",
    "                    0.409, 0.6, 1.203, 1.829, 1.397, 1.39, 0.539, 0.934, 2.369, 2.43])"
   ]
  },
  {
   "cell_type": "code",
   "execution_count": 75,
   "metadata": {},
   "outputs": [],
   "source": [
    "def zero(state):\n",
    "    if isinstance(state, StateF):\n",
    "        return 0.0\n",
    "    elif isinstance(state, StateD):\n",
    "        return Dual64.from_re(0.0)\n",
    "    elif isinstance(state, StateHD):\n",
    "        return HyperDual64.from_re(0.0)\n",
    "    elif isinstance(state, StateHD3):\n",
    "        return HD3_64.from_re(0.0)\n",
    "    elif isinstance(state, StateHD3D):\n",
    "        return HD3Dual64.from_re(Dual64.from_re(0.0))\n",
    "    else:\n",
    "        HyperDualDual64.from_re(Dual64.from_re(0.0))\n",
    "        \n",
    "class Thol:\n",
    "    def __init__(self):\n",
    "        self.sigma = 3.7039 * ANGSTROM\n",
    "        self.eps_k = 150.03 * KELVIN\n",
    "        self.tc = 1.32 * self.eps_k / KELVIN\n",
    "        self.rhoc = 0.31 / self.sigma**3 * ANGSTROM**3\n",
    "        \n",
    "    def components(self): \n",
    "        return 1\n",
    "    \n",
    "    def get_subset(self, components):\n",
    "        return self\n",
    "        \n",
    "    def molar_weight(self):\n",
    "        return 1.0\n",
    "    \n",
    "    def max_density(self, moles):\n",
    "        return 0.05\n",
    "    \n",
    "    def helmholtz_energy(self, state):\n",
    "        \"\"\"\n",
    "        state (StateHD):\n",
    "            temperature in Kelvin als Float, Dual oder HD oder HD3, HDD, HDD3,\n",
    "            partial_density in # / Angstrom^3\n",
    "            volume in Angstrom^3\n",
    "            moles in mol\n",
    "        \"\"\"\n",
    "        tau = self.tc / state.temperature\n",
    "        delta = np.sum(state.partial_density) / self.rhoc\n",
    "        a = 0.0 \n",
    "        for i in range(6):\n",
    "            a = a + N[i] * delta**D[i] * tau**T[i]\n",
    "        for i in range(6, 12):\n",
    "            a = a + N[i] * delta**D[i] * tau**T[i] * np.exp(-1.0 * delta**L[i])\n",
    "        for i in range(12, 23):\n",
    "            a = a + N[i] * delta**D[i] * tau**T[i] * np.exp(- 1.0 * ETA[i] * (delta - EPSILON[i])**2.0 - 1.0 * BETA[i] * (tau - 1.0 * GAMMA[i])**2.0)\n",
    "        return a * np.sum(state.moles)"
   ]
  },
  {
   "cell_type": "code",
   "execution_count": 76,
   "metadata": {},
   "outputs": [],
   "source": [
    "# Test Tol EoS\n",
    "thol = Thol()\n",
    "eos = UserDefinedEos(thol)\n",
    "temperature = 293 * KELVIN\n",
    "density = 0.4 / (thol.sigma**3 * NAV) \n",
    "state1 = State(eos, temperature=temperature, density=density)"
   ]
  },
  {
   "cell_type": "code",
   "execution_count": 77,
   "metadata": {},
   "outputs": [
    {
     "data": {
      "text/plain": [
       "200.59011"
      ]
     },
     "execution_count": 77,
     "metadata": {},
     "output_type": "execute_result"
    }
   ],
   "source": [
    "150.03 * 1.337"
   ]
  },
  {
   "cell_type": "code",
   "execution_count": 78,
   "metadata": {},
   "outputs": [
    {
     "data": {
      "text/markdown": [
       "|temperature|density|\n",
       "|-|-|\n",
       "|200 K|60.4902481804112  mol/m³|"
      ],
      "text/plain": [
       "T = 200 K, ρ = 60.4902481804112  mol/m³"
      ]
     },
     "execution_count": 78,
     "metadata": {},
     "output_type": "execute_result"
    }
   ],
   "source": [
    "State(eos, 200*KELVIN, pressure=BAR)"
   ]
  },
  {
   "cell_type": "markdown",
   "metadata": {},
   "source": [
    "**Test Thol EoS**"
   ]
  },
  {
   "cell_type": "code",
   "execution_count": 82,
   "metadata": {},
   "outputs": [
    {
     "name": "stdout",
     "output_type": "stream",
     "text": [
      " iter |    residual    |   temperature   |       density        \n",
      "----------------------------------------------------------------\n",
      "    0 |                | 100 K | 24.908086007607697 kmol/m³\n",
      "    1 |   8.39127369e1 | 125 K | 23.46547454036538 kmol/m³\n",
      "    2 |   5.72497912e1 | 156.25 K | 21.368223826627954 kmol/m³\n",
      "    3 |   3.01554839e1 | 181.05344088134393 K | 18.877415225867182 kmol/m³\n",
      "    4 |   1.32905051e1 | 196.32751112519156 K | 16.386606625106413 kmol/m³\n",
      "    5 |   5.67030703e0 | 206.01853855630475 K | 13.895798024345645 kmol/m³\n",
      "    6 |   1.84070432e0 | 201.8677241721009 K | 12.267793599231378 kmol/m³\n",
      "    7 |  5.73606688e-1 | 199.99382239196314 K | 11.051174021799556 kmol/m³\n",
      "    8 |  1.46084010e-1 | 198.61792362282236 K | 10.525858279018173 kmol/m³\n",
      "    9 |  2.52852860e-2 | 198.10930515257152 K | 10.404705661894072 kmol/m³\n",
      "   10 |  3.49064040e-3 | 198.0425480080979 K | 10.339662762669684 kmol/m³\n",
      "   11 |  6.40627917e-4 | 198.0398300789862 K | 10.28288036150796 kmol/m³\n",
      "   12 |  1.63861401e-4 | 198.03967764132028 K | 10.250337612573594 kmol/m³\n",
      "   13 |  3.66174484e-5 | 198.03965472506513 K | 10.237403868802543 kmol/m³\n",
      "   14 |  4.67400889e-6 | 198.03965212156297 K | 10.235193481604906 kmol/m³\n",
      "   15 |  1.25128822e-7 | 198.0396520577831 K | 10.235130911284967 kmol/m³\n",
      "   16 | 9.87982151e-11 | 198.03965205773264 K | 10.235130861803167 kmol/m³\n",
      "Critical point calculation converged in 16 step(s)\n",
      "\n"
     ]
    }
   ],
   "source": [
    "cp = State.critical_point(eos, initial_temperature=100*KELVIN, verbosity=Verbosity.Iter)"
   ]
  },
  {
   "cell_type": "code",
   "execution_count": 83,
   "metadata": {},
   "outputs": [
    {
     "data": {
      "text/plain": [
       "1.3200003469821544"
      ]
     },
     "execution_count": 83,
     "metadata": {},
     "output_type": "execute_result"
    }
   ],
   "source": [
    "cp.temperature / thol.eps_k"
   ]
  },
  {
   "cell_type": "code",
   "execution_count": 85,
   "metadata": {},
   "outputs": [
    {
     "data": {
      "text/markdown": [
       "||temperature|density|\n",
       "|-|-|-|\n",
       "|**vapor**|111.67250977757882 K|111.05992974448719  mol/m³|\n",
       "|**liquid**|111.67250977757882 K|26.91278587289406 kmol/m³|"
      ],
      "text/plain": [
       "vapor:  T = 111.67250977757882 K, ρ = 111.05992974448719  mol/m³\n",
       "liquid: T = 111.67250977757882 K, ρ = 26.91278587289406 kmol/m³"
      ]
     },
     "execution_count": 85,
     "metadata": {},
     "output_type": "execute_result"
    }
   ],
   "source": [
    "vle = VLEState.pure_p(eos, 1.0 * BAR)\n",
    "vle"
   ]
  },
  {
   "cell_type": "code",
   "execution_count": 125,
   "metadata": {},
   "outputs": [],
   "source": [
    "state = State(eos, temperature=300.0 * KELVIN, pressure=1.0 * BAR)"
   ]
  },
  {
   "cell_type": "code",
   "execution_count": 109,
   "metadata": {},
   "outputs": [
    {
     "ename": "PanicException",
     "evalue": "called `Result::unwrap()` on an `Err` value: PyErr { type: <class 'TypeError'>, value: TypeError('not implemented!'), traceback: Some(<traceback object at 0x7f391548bc00>) }",
     "output_type": "error",
     "traceback": [
      "\u001b[0;31m---------------------------------------------------------------------------\u001b[0m",
      "\u001b[0;31mPanicException\u001b[0m                            Traceback (most recent call last)",
      "\u001b[0;32m<ipython-input-109-c957d2ccb12d>\u001b[0m in \u001b[0;36m<module>\u001b[0;34m\u001b[0m\n\u001b[0;32m----> 1\u001b[0;31m \u001b[0mvle\u001b[0m \u001b[0;34m=\u001b[0m \u001b[0mVLEState\u001b[0m\u001b[0;34m.\u001b[0m\u001b[0mnew_pure_p\u001b[0m\u001b[0;34m(\u001b[0m\u001b[0meos\u001b[0m\u001b[0;34m,\u001b[0m \u001b[0;36m1.0\u001b[0m\u001b[0;34m*\u001b[0m\u001b[0mBAR\u001b[0m\u001b[0;34m)\u001b[0m\u001b[0;34m\u001b[0m\u001b[0;34m\u001b[0m\u001b[0m\n\u001b[0m",
      "\u001b[0;31mPanicException\u001b[0m: called `Result::unwrap()` on an `Err` value: PyErr { type: <class 'TypeError'>, value: TypeError('not implemented!'), traceback: Some(<traceback object at 0x7f391548bc00>) }"
     ]
    }
   ],
   "source": [
    "vle = VLEState.new_pure_p(eos, 1.0*BAR)"
   ]
  },
  {
   "cell_type": "code",
   "execution_count": 40,
   "metadata": {},
   "outputs": [
    {
     "ename": "PanicException",
     "evalue": "called `Result::unwrap()` on an `Err` value: PyErr { type: <class 'TypeError'>, value: TypeError('get_subset() takes 1 positional argument but 2 were given'), traceback: None }",
     "output_type": "error",
     "traceback": [
      "\u001b[0;31m---------------------------------------------------------------------------\u001b[0m",
      "\u001b[0;31mPanicException\u001b[0m                            Traceback (most recent call last)",
      "\u001b[0;32m<ipython-input-40-fcae43cd968c>\u001b[0m in \u001b[0;36m<module>\u001b[0;34m\u001b[0m\n\u001b[0;32m----> 1\u001b[0;31m \u001b[0mvle\u001b[0m \u001b[0;34m=\u001b[0m \u001b[0mVLEState\u001b[0m\u001b[0;34m.\u001b[0m\u001b[0mboiling_temperature\u001b[0m\u001b[0;34m(\u001b[0m\u001b[0meos\u001b[0m\u001b[0;34m,\u001b[0m \u001b[0;36m1.0\u001b[0m \u001b[0;34m*\u001b[0m \u001b[0mBAR\u001b[0m\u001b[0;34m)\u001b[0m\u001b[0;34m\u001b[0m\u001b[0;34m\u001b[0m\u001b[0m\n\u001b[0m",
      "\u001b[0;31mPanicException\u001b[0m: called `Result::unwrap()` on an `Err` value: PyErr { type: <class 'TypeError'>, value: TypeError('get_subset() takes 1 positional argument but 2 were given'), traceback: None }"
     ]
    }
   ],
   "source": [
    "vle = VLEState.boiling_temperature(eos, 1.0 * BAR)"
   ]
  },
  {
   "cell_type": "code",
   "execution_count": 53,
   "metadata": {},
   "outputs": [
    {
     "name": "stderr",
     "output_type": "stream",
     "text": [
      "<ipython-input-3-5d7812ec67f3>:32: DeprecationWarning: `np.float` is a deprecated alias for the builtin `float`. To silence this warning, use `float` by itself. Doing this will not modify any behavior and is safe. If you specifically wanted the numpy scalar type, use `np.float64` here.\n",
      "Deprecated in NumPy 1.20; for more details and guidance: https://numpy.org/devdocs/release/1.20.0-notes.html#deprecations\n",
      "  return np.float(0.5)\n"
     ]
    },
    {
     "ename": "RuntimeError",
     "evalue": "Invalid state. Temperature is not finite.",
     "output_type": "error",
     "traceback": [
      "\u001b[0;31m---------------------------------------------------------------------------\u001b[0m",
      "\u001b[0;31mRuntimeError\u001b[0m                              Traceback (most recent call last)",
      "\u001b[0;32m<ipython-input-53-6d616d03613d>\u001b[0m in \u001b[0;36m<module>\u001b[0;34m\u001b[0m\n\u001b[0;32m----> 1\u001b[0;31m \u001b[0mvle\u001b[0m \u001b[0;34m=\u001b[0m \u001b[0mVLEState\u001b[0m\u001b[0;34m.\u001b[0m\u001b[0mbubble_point_px\u001b[0m\u001b[0;34m(\u001b[0m\u001b[0meos\u001b[0m\u001b[0;34m,\u001b[0m \u001b[0;36m5.0\u001b[0m \u001b[0;34m*\u001b[0m \u001b[0mBAR\u001b[0m\u001b[0;34m,\u001b[0m \u001b[0mnp\u001b[0m\u001b[0;34m.\u001b[0m\u001b[0marray\u001b[0m\u001b[0;34m(\u001b[0m\u001b[0;34m[\u001b[0m\u001b[0;36m1.0\u001b[0m\u001b[0;34m]\u001b[0m\u001b[0;34m)\u001b[0m\u001b[0;34m)\u001b[0m\u001b[0;34m\u001b[0m\u001b[0;34m\u001b[0m\u001b[0m\n\u001b[0m",
      "\u001b[0;31mRuntimeError\u001b[0m: Invalid state. Temperature is not finite."
     ]
    }
   ],
   "source": [
    "vle = VLEState.bubble_point_px(eos, 5.0 * BAR, np.array([1.0]))"
   ]
  },
  {
   "cell_type": "code",
   "execution_count": 58,
   "metadata": {},
   "outputs": [
    {
     "name": "stderr",
     "output_type": "stream",
     "text": [
      "<ipython-input-3-5d7812ec67f3>:32: DeprecationWarning: `np.float` is a deprecated alias for the builtin `float`. To silence this warning, use `float` by itself. Doing this will not modify any behavior and is safe. If you specifically wanted the numpy scalar type, use `np.float64` here.\n",
      "Deprecated in NumPy 1.20; for more details and guidance: https://numpy.org/devdocs/release/1.20.0-notes.html#deprecations\n",
      "  return np.float(0.5)\n"
     ]
    },
    {
     "ename": "PanicException",
     "evalue": "called `Result::unwrap()` on an `Err` value: PyErr { type: <class 'TypeError'>, value: TypeError('not implemented!'), traceback: Some(<traceback object at 0x7f39157aed00>) }",
     "output_type": "error",
     "traceback": [
      "\u001b[0;31m---------------------------------------------------------------------------\u001b[0m",
      "\u001b[0;31mPanicException\u001b[0m                            Traceback (most recent call last)",
      "\u001b[0;32m<ipython-input-58-c957d2ccb12d>\u001b[0m in \u001b[0;36m<module>\u001b[0;34m\u001b[0m\n\u001b[0;32m----> 1\u001b[0;31m \u001b[0mvle\u001b[0m \u001b[0;34m=\u001b[0m \u001b[0mVLEState\u001b[0m\u001b[0;34m.\u001b[0m\u001b[0mnew_pure_p\u001b[0m\u001b[0;34m(\u001b[0m\u001b[0meos\u001b[0m\u001b[0;34m,\u001b[0m \u001b[0;36m1.0\u001b[0m\u001b[0;34m*\u001b[0m\u001b[0mBAR\u001b[0m\u001b[0;34m)\u001b[0m\u001b[0;34m\u001b[0m\u001b[0;34m\u001b[0m\u001b[0m\n\u001b[0m",
      "\u001b[0;31mPanicException\u001b[0m: called `Result::unwrap()` on an `Err` value: PyErr { type: <class 'TypeError'>, value: TypeError('not implemented!'), traceback: Some(<traceback object at 0x7f39157aed00>) }"
     ]
    }
   ],
   "source": []
  },
  {
   "cell_type": "code",
   "execution_count": 61,
   "metadata": {},
   "outputs": [
    {
     "ename": "PanicException",
     "evalue": "called `Result::unwrap()` on an `Err` value: PyErr { type: <class 'TypeError'>, value: TypeError('get_subset() takes 1 positional argument but 2 were given'), traceback: None }",
     "output_type": "error",
     "traceback": [
      "\u001b[0;31m---------------------------------------------------------------------------\u001b[0m",
      "\u001b[0;31mPanicException\u001b[0m                            Traceback (most recent call last)",
      "\u001b[0;32m<ipython-input-61-35ab5c5884ee>\u001b[0m in \u001b[0;36m<module>\u001b[0;34m\u001b[0m\n\u001b[0;32m----> 1\u001b[0;31m \u001b[0mvle\u001b[0m \u001b[0;34m=\u001b[0m \u001b[0mVLEState\u001b[0m\u001b[0;34m.\u001b[0m\u001b[0mvle_pure_comps_p\u001b[0m\u001b[0;34m(\u001b[0m\u001b[0meos\u001b[0m\u001b[0;34m,\u001b[0m \u001b[0;36m1.0\u001b[0m\u001b[0;34m*\u001b[0m\u001b[0mBAR\u001b[0m\u001b[0;34m)\u001b[0m\u001b[0;34m\u001b[0m\u001b[0;34m\u001b[0m\u001b[0m\n\u001b[0m",
      "\u001b[0;31mPanicException\u001b[0m: called `Result::unwrap()` on an `Err` value: PyErr { type: <class 'TypeError'>, value: TypeError('get_subset() takes 1 positional argument but 2 were given'), traceback: None }"
     ]
    }
   ],
   "source": [
    "vle = VLEState.vle_pure_comps_p(eos, 1.0*BAR)"
   ]
  },
  {
   "cell_type": "code",
   "execution_count": 63,
   "metadata": {},
   "outputs": [
    {
     "ename": "PanicException",
     "evalue": "called `Result::unwrap()` on an `Err` value: PyErr { type: <class 'TypeError'>, value: TypeError('get_subset() takes 1 positional argument but 2 were given'), traceback: None }",
     "output_type": "error",
     "traceback": [
      "\u001b[0;31m---------------------------------------------------------------------------\u001b[0m",
      "\u001b[0;31mPanicException\u001b[0m                            Traceback (most recent call last)",
      "\u001b[0;32m<ipython-input-63-bc5c1c5f924b>\u001b[0m in \u001b[0;36m<module>\u001b[0;34m\u001b[0m\n\u001b[0;32m----> 1\u001b[0;31m \u001b[0mvle\u001b[0m \u001b[0;34m=\u001b[0m \u001b[0mVLEState\u001b[0m\u001b[0;34m.\u001b[0m\u001b[0mvle_pure_comps_t\u001b[0m\u001b[0;34m(\u001b[0m\u001b[0meos\u001b[0m\u001b[0;34m,\u001b[0m \u001b[0;36m300\u001b[0m\u001b[0;34m*\u001b[0m\u001b[0mKELVIN\u001b[0m\u001b[0;34m)\u001b[0m\u001b[0;34m\u001b[0m\u001b[0;34m\u001b[0m\u001b[0m\n\u001b[0m",
      "\u001b[0;31mPanicException\u001b[0m: called `Result::unwrap()` on an `Err` value: PyErr { type: <class 'TypeError'>, value: TypeError('get_subset() takes 1 positional argument but 2 were given'), traceback: None }"
     ]
    }
   ],
   "source": [
    "vle = VLEState.vle_pure_comps_t(eos, 300*KELVIN)"
   ]
  },
  {
   "cell_type": "code",
   "execution_count": 11,
   "metadata": {},
   "outputs": [
    {
     "ename": "AttributeError",
     "evalue": "type object 'builtins.VLEState' has no attribute 'pure_p'",
     "output_type": "error",
     "traceback": [
      "\u001b[0;31m---------------------------------------------------------------------------\u001b[0m",
      "\u001b[0;31mAttributeError\u001b[0m                            Traceback (most recent call last)",
      "\u001b[0;32m<ipython-input-11-52a870e7f10f>\u001b[0m in \u001b[0;36m<module>\u001b[0;34m\u001b[0m\n\u001b[0;32m----> 1\u001b[0;31m \u001b[0mvle\u001b[0m \u001b[0;34m=\u001b[0m \u001b[0mVLEState\u001b[0m\u001b[0;34m.\u001b[0m\u001b[0mpure_p\u001b[0m\u001b[0;34m(\u001b[0m\u001b[0mthol\u001b[0m\u001b[0;34m,\u001b[0m \u001b[0;36m1.0\u001b[0m \u001b[0;34m*\u001b[0m \u001b[0mBAR\u001b[0m\u001b[0;34m)\u001b[0m\u001b[0;34m\u001b[0m\u001b[0;34m\u001b[0m\u001b[0m\n\u001b[0m\u001b[1;32m      2\u001b[0m \u001b[0;31m#state1.critical_point_pure(eos)\u001b[0m\u001b[0;34m\u001b[0m\u001b[0;34m\u001b[0m\u001b[0;34m\u001b[0m\u001b[0m\n",
      "\u001b[0;31mAttributeError\u001b[0m: type object 'builtins.VLEState' has no attribute 'pure_p'"
     ]
    }
   ],
   "source": [
    "vle = VLEState.\n",
    "#state1.critical_point_pure(eos)"
   ]
  },
  {
   "cell_type": "code",
   "execution_count": null,
   "metadata": {},
   "outputs": [],
   "source": [
    "#VLEState.new_pure_t(eos,temperature)"
   ]
  },
  {
   "cell_type": "code",
   "execution_count": 12,
   "metadata": {},
   "outputs": [
    {
     "name": "stderr",
     "output_type": "stream",
     "text": [
      "<ipython-input-3-5d7812ec67f3>:32: DeprecationWarning: `np.float` is a deprecated alias for the builtin `float`. To silence this warning, use `float` by itself. Doing this will not modify any behavior and is safe. If you specifically wanted the numpy scalar type, use `np.float64` here.\n",
      "Deprecated in NumPy 1.20; for more details and guidance: https://numpy.org/devdocs/release/1.20.0-notes.html#deprecations\n",
      "  return np.float(0.5)\n"
     ]
    }
   ],
   "source": [
    "state = State(eos, temperature=300.0 * KELVIN, pressure=1.0 * BAR)"
   ]
  },
  {
   "cell_type": "code",
   "execution_count": 17,
   "metadata": {},
   "outputs": [
    {
     "name": "stderr",
     "output_type": "stream",
     "text": [
      "<ipython-input-3-5d7812ec67f3>:32: DeprecationWarning: `np.float` is a deprecated alias for the builtin `float`. To silence this warning, use `float` by itself. Doing this will not modify any behavior and is safe. If you specifically wanted the numpy scalar type, use `np.float64` here.\n",
      "Deprecated in NumPy 1.20; for more details and guidance: https://numpy.org/devdocs/release/1.20.0-notes.html#deprecations\n",
      "  return np.float(0.5)\n"
     ]
    },
    {
     "ename": "PanicException",
     "evalue": "called `Result::unwrap()` on an `Err` value: PyErr { type: <class 'TypeError'>, value: TypeError('not implemented!'), traceback: Some(<traceback object at 0x7f391591f6c0>) }",
     "output_type": "error",
     "traceback": [
      "\u001b[0;31m---------------------------------------------------------------------------\u001b[0m",
      "\u001b[0;31mPanicException\u001b[0m                            Traceback (most recent call last)",
      "\u001b[0;32m<ipython-input-17-53cac655afb9>\u001b[0m in \u001b[0;36m<module>\u001b[0;34m\u001b[0m\n\u001b[0;32m----> 1\u001b[0;31m \u001b[0mvle\u001b[0m \u001b[0;34m=\u001b[0m \u001b[0mVLEState\u001b[0m\u001b[0;34m.\u001b[0m\u001b[0mnew_pure_p\u001b[0m\u001b[0;34m(\u001b[0m\u001b[0meos\u001b[0m\u001b[0;34m,\u001b[0m \u001b[0;36m1.0\u001b[0m \u001b[0;34m*\u001b[0m \u001b[0mBAR\u001b[0m \u001b[0;34m)\u001b[0m\u001b[0;34m\u001b[0m\u001b[0;34m\u001b[0m\u001b[0m\n\u001b[0m\u001b[1;32m      2\u001b[0m \u001b[0;31m#\u001b[0m\u001b[0;34m\u001b[0m\u001b[0;34m\u001b[0m\u001b[0;34m\u001b[0m\u001b[0m\n\u001b[1;32m      3\u001b[0m \u001b[0;31m#pure_p(eos, 1.0 * BAR)\u001b[0m\u001b[0;34m\u001b[0m\u001b[0;34m\u001b[0m\u001b[0;34m\u001b[0m\u001b[0m\n",
      "\u001b[0;31mPanicException\u001b[0m: called `Result::unwrap()` on an `Err` value: PyErr { type: <class 'TypeError'>, value: TypeError('not implemented!'), traceback: Some(<traceback object at 0x7f391591f6c0>) }"
     ]
    }
   ],
   "source": [
    "vle = VLEState.new_pure_p(eos, 1.0 * BAR )\n",
    "#\n",
    "#pure_p(eos, 1.0 * BAR)"
   ]
  },
  {
   "cell_type": "code",
   "execution_count": 29,
   "metadata": {},
   "outputs": [
    {
     "ename": "PanicException",
     "evalue": "called `Result::unwrap()` on an `Err` value: PyErr { type: <class 'TypeError'>, value: TypeError('get_subset() takes 1 positional argument but 2 were given'), traceback: None }",
     "output_type": "error",
     "traceback": [
      "\u001b[0;31m---------------------------------------------------------------------------\u001b[0m",
      "\u001b[0;31mPanicException\u001b[0m                            Traceback (most recent call last)",
      "\u001b[0;32m<ipython-input-29-4769fd3aa2e2>\u001b[0m in \u001b[0;36m<module>\u001b[0;34m\u001b[0m\n\u001b[0;32m----> 1\u001b[0;31m \u001b[0mvle\u001b[0m \u001b[0;34m=\u001b[0m \u001b[0mVLEState\u001b[0m\u001b[0;34m.\u001b[0m\u001b[0mvle_pure_comps_t\u001b[0m\u001b[0;34m(\u001b[0m\u001b[0meos\u001b[0m\u001b[0;34m,\u001b[0m \u001b[0;36m100.0\u001b[0m\u001b[0;34m*\u001b[0m\u001b[0mKELVIN\u001b[0m\u001b[0;34m)\u001b[0m\u001b[0;34m\u001b[0m\u001b[0;34m\u001b[0m\u001b[0m\n\u001b[0m",
      "\u001b[0;31mPanicException\u001b[0m: called `Result::unwrap()` on an `Err` value: PyErr { type: <class 'TypeError'>, value: TypeError('get_subset() takes 1 positional argument but 2 were given'), traceback: None }"
     ]
    }
   ],
   "source": [
    "vle = VLEState.vle_pure_comps_t(eos, 100.0*KELVIN)"
   ]
  },
  {
   "cell_type": "code",
   "execution_count": 20,
   "metadata": {},
   "outputs": [
    {
     "data": {
      "text/plain": [
       "<function VLEState.vle_pure_comps_t(eos, temperature)>"
      ]
     },
     "execution_count": 20,
     "metadata": {},
     "output_type": "execute_result"
    }
   ],
   "source": [
    "vle"
   ]
  },
  {
   "cell_type": "code",
   "execution_count": null,
   "metadata": {},
   "outputs": [],
   "source": []
  }
 ],
 "metadata": {
  "kernelspec": {
   "display_name": "eos_core",
   "language": "python",
   "name": "eos_core"
  },
  "language_info": {
   "codemirror_mode": {
    "name": "ipython",
    "version": 3
   },
   "file_extension": ".py",
   "mimetype": "text/x-python",
   "name": "python",
   "nbconvert_exporter": "python",
   "pygments_lexer": "ipython3",
   "version": "3.8.1"
  }
 },
 "nbformat": 4,
 "nbformat_minor": 4
}
